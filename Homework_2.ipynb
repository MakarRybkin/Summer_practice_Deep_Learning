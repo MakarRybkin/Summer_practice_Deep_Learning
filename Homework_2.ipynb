{
 "nbformat": 4,
 "nbformat_minor": 0,
 "metadata": {
  "colab": {
   "provenance": [],
   "gpuType": "T4"
  },
  "kernelspec": {
   "name": "python3",
   "display_name": "Python 3"
  },
  "language_info": {
   "name": "python"
  },
  "accelerator": "GPU"
 },
 "cells": [
  {
   "cell_type": "markdown",
   "source": [
    "## Домашнее задание к уроку 2: Линейная и логистическая регрессия\n",
    "## Цель задания\n",
    "## Закрепить навыки работы с PyTorch API, изучить модификацию моделей и работу с различными датасетами.\n",
    "\n",
    "Задание 1: Модификация существующих моделей (30 баллов)\n",
    "Создайте файл homework_model_modification.py:\n"
   ],
   "metadata": {
    "id": "G33PPdSMKJWj"
   }
  },
  {
   "cell_type": "markdown",
   "source": [
    "### Скопирую код с пары"
   ],
   "metadata": {
    "id": "jyTzUYTU1BPd"
   }
  },
  {
   "cell_type": "code",
   "source": [
    "import torch\n",
    "import torch.nn as nn\n",
    "import torch.optim as optim\n",
    "from torch.utils.data import DataLoader\n",
    "import numpy as np\n",
    "from torch.utils.data import Dataset\n",
    "from sklearn.model_selection import train_test_split\n",
    "from sklearn.metrics import precision_score, recall_score, f1_score, roc_auc_score, confusion_matrix,r2_score\n",
    "import matplotlib.pyplot as plt\n",
    "import seaborn as sns\n",
    "import pandas as pd\n",
    "from sklearn.preprocessing import StandardScaler, OneHotEncoder,PolynomialFeatures"
   ],
   "metadata": {
    "id": "U3LAZIUSKbzK"
   },
   "execution_count": 46,
   "outputs": []
  },
  {
   "cell_type": "code",
   "source": [
    "class RegressionDataset(Dataset):\n",
    "    def __init__(self, X, y):\n",
    "        self.X = X\n",
    "        self.y = y\n",
    "\n",
    "    def __len__(self):\n",
    "        return len(self.X)\n",
    "\n",
    "    def __getitem__(self, idx):\n",
    "        return self.X[idx], self.y[idx]\n",
    "\n",
    "class ClassificationDataset(Dataset):\n",
    "    def __init__(self, X, y):\n",
    "        self.X = X\n",
    "        self.y = y\n",
    "\n",
    "    def __len__(self):\n",
    "        return len(self.X)\n",
    "\n",
    "    def __getitem__(self, idx):\n",
    "        return self.X[idx], self.y[idx]\n"
   ],
   "metadata": {
    "id": "bCpaXk28MCqS"
   },
   "execution_count": 23,
   "outputs": []
  },
  {
   "cell_type": "code",
   "source": [
    "def make_regression_data(n=100, noise=0.1, source='random'):\n",
    "    if source == 'random':\n",
    "        X = torch.rand(n, 1)\n",
    "        w, b = 2.0, -1.0\n",
    "        y = w * X + b + noise * torch.randn(n, 1)\n",
    "        return X, y\n",
    "    elif source == 'diabetes':\n",
    "        from sklearn.datasets import load_diabetes\n",
    "        data = load_diabetes()\n",
    "        X = torch.tensor(data['data'], dtype=torch.float32)\n",
    "        y = torch.tensor(data['target'], dtype=torch.float32).unsqueeze(1)\n",
    "        return X, y\n",
    "    else:\n",
    "        raise ValueError('Unknown source')"
   ],
   "metadata": {
    "id": "c8gppKndLXVy"
   },
   "execution_count": 24,
   "outputs": []
  },
  {
   "cell_type": "code",
   "source": [
    "def make_classification_data(n=100, source='random'):\n",
    "    if source == 'random':\n",
    "        X = torch.rand(n, 2)\n",
    "        w = torch.tensor([2.0, -3.0])\n",
    "        b = 0.5\n",
    "        logits = X @ w + b\n",
    "        y = (logits > 0).float().unsqueeze(1)\n",
    "        return X, y\n",
    "    elif source == 'breast_cancer':\n",
    "        from sklearn.datasets import load_breast_cancer\n",
    "        data = load_breast_cancer()\n",
    "        X = torch.tensor(data['data'], dtype=torch.float32)\n",
    "        y = torch.tensor(data['target'], dtype=torch.float32).unsqueeze(1)\n",
    "        return X, y\n",
    "    else:\n",
    "        raise ValueError('Unknown source')"
   ],
   "metadata": {
    "id": "3fmaFsw5L--T"
   },
   "execution_count": 25,
   "outputs": []
  },
  {
   "cell_type": "code",
   "source": [
    "def mse(y_pred, y_true):\n",
    "    return ((y_pred - y_true) ** 2).mean().item()\n",
    "\n",
    "def accuracy(y_pred, y_true):\n",
    "    y_pred_bin = (y_pred > 0.5).float()\n",
    "    return (y_pred_bin == y_true).float().mean().item()\n",
    "\n",
    "def log_epoch(epoch, loss, **metrics):\n",
    "    msg = f\"Epoch {epoch}: loss={loss:.4f}\"\n",
    "    for k, v in metrics.items():\n",
    "        msg += f\", {k}={v:.4f}\"\n",
    "    print(msg)"
   ],
   "metadata": {
    "id": "Qk2iohSUL909"
   },
   "execution_count": 26,
   "outputs": []
  },
  {
   "cell_type": "code",
   "source": [
    "class LinearRegression(nn.Module):\n",
    "    def __init__(self, in_features):\n",
    "        super().__init__()\n",
    "        self.linear = nn.Linear(in_features, 1)\n",
    "\n",
    "    def forward(self, x):\n",
    "        return self.linear(x)"
   ],
   "metadata": {
    "id": "45sdiQDJMTiD"
   },
   "execution_count": 27,
   "outputs": []
  },
  {
   "cell_type": "code",
   "source": [
    "X, y = make_regression_data(n=200)\n",
    "\n",
    "    # Создаём датасет и даталоадер\n",
    "dataset = RegressionDataset(X, y)\n",
    "dataloader = DataLoader(dataset, batch_size=32, shuffle=True)\n",
    "print(f'Размер датасета: {len(dataset)}')\n",
    "print(f'Количество батчей: {len(dataloader)}')"
   ],
   "metadata": {
    "colab": {
     "base_uri": "https://localhost:8080/"
    },
    "id": "VNHElrf9MXeM",
    "outputId": "888530d6-7ff4-4f40-8096-993d4c1d35d9"
   },
   "execution_count": 28,
   "outputs": [
    {
     "output_type": "stream",
     "name": "stdout",
     "text": [
      "Размер датасета: 200\n",
      "Количество батчей: 7\n"
     ]
    }
   ]
  },
  {
   "cell_type": "markdown",
   "source": [
    "1.1 Расширение линейной регрессии (15 баллов)\n",
    "# Модифицируйте существующую линейную регрессию:\n",
    "# - Добавьте L1 и L2 регуляризацию"
   ],
   "metadata": {
    "id": "nVccwEQxQoXF"
   }
  },
  {
   "cell_type": "markdown",
   "source": "## Добавим l1 и l2 регуляризации, добавив к ошибке l1 и l2",
   "metadata": {
    "id": "SW9s-sNzT1AR"
   }
  },
  {
   "cell_type": "code",
   "source": [
    "def compute_regularization_loss(model, l1_coef=0.0, l2_coef=0.0):\n",
    "    l1_loss, l2_loss = 0.0, 0.0\n",
    "    for param in model.parameters():\n",
    "        l1_loss += torch.sum(torch.abs(param))\n",
    "        l2_loss += torch.sum(param ** 2)\n",
    "    return l1_coef * l1_loss + l2_coef * l2_loss"
   ],
   "metadata": {
    "id": "3gjrTEOPQYY2"
   },
   "execution_count": 29,
   "outputs": []
  },
  {
   "cell_type": "markdown",
   "source": [
    "# - Добавьте early stopping"
   ],
   "metadata": {
    "id": "FDHqdVNLQsSR"
   }
  },
  {
   "cell_type": "markdown",
   "source": [
    "## Для early stopping нужно разделить данные на train и val части и на каждой эпохе считать ошибку на val выборке"
   ],
   "metadata": {
    "id": "hbn_u5lsTNSY"
   }
  },
  {
   "cell_type": "code",
   "source": [
    "\n",
    "X_train, X_val, y_train, y_val = train_test_split(X.numpy(), y.numpy(), test_size=0.2, random_state=42)\n",
    "\n",
    "train_dataset = RegressionDataset(torch.from_numpy(X_train), torch.from_numpy(y_train))\n",
    "val_dataset = RegressionDataset(torch.from_numpy(X_val), torch.from_numpy(y_val))\n",
    "\n",
    "train_loader = DataLoader(train_dataset, batch_size=32, shuffle=True)\n",
    "val_loader = DataLoader(val_dataset, batch_size=32, shuffle=False)\n"
   ],
   "metadata": {
    "id": "sz7owgRhQhLK"
   },
   "execution_count": 30,
   "outputs": []
  },
  {
   "cell_type": "code",
   "source": [
    "# Создаём модель, функцию потерь и оптимизатор\n",
    "model = LinearRegression(in_features=1)\n",
    "criterion = nn.MSELoss()\n",
    "optimizer = optim.SGD(model.parameters(), lr=0.1)\n",
    "\n",
    "# Обучаем модель\n",
    "l1_coef = 1e-4\n",
    "l2_coef = 1e-4\n",
    "patience = 10 # количество эпох без обучения\n",
    "best_val_loss = np.inf\n",
    "epochs_no_improve = 0\n",
    "\n",
    "epochs = 100\n",
    "for epoch in range(1, epochs + 1):\n",
    "    train_loss = 0\n",
    "\n",
    "    for i, (batch_X, batch_y) in enumerate(dataloader):\n",
    "        optimizer.zero_grad()\n",
    "        y_pred = model(batch_X)\n",
    "        loss = criterion(y_pred, batch_y)\n",
    "        reg_loss = compute_regularization_loss(model, l1_coef, l2_coef)\n",
    "        total_batch_loss = loss + reg_loss\n",
    "\n",
    "        total_batch_loss.backward()\n",
    "        optimizer.step()\n",
    "\n",
    "        train_loss += total_batch_loss.item()\n",
    "\n",
    "    avg_train_loss = train_loss / len(train_loader)\n",
    "\n",
    "    model.eval()\n",
    "    with torch.no_grad():\n",
    "        val_loss = 0\n",
    "        for val_X, val_y in val_loader:\n",
    "            val_pred = model(val_X)\n",
    "            loss_val = criterion(val_pred, val_y)\n",
    "            val_loss += loss_val.item()\n",
    "        avg_val_loss = val_loss / len(val_loader)\n",
    "\n",
    "    log_epoch(epoch, avg_train_loss, val_loss=avg_val_loss)\n",
    "\n",
    "    # Early stopping\n",
    "    if avg_val_loss < best_val_loss - 1e-4:\n",
    "        best_val_loss = avg_val_loss\n",
    "        epochs_no_improve = 0\n",
    "        torch.save(model.state_dict(), 'best_linreg_torch.pth')\n",
    "    else:\n",
    "        epochs_no_improve += 1\n",
    "\n",
    "    if epochs_no_improve >= patience:\n",
    "        print(f\"Early stopping на эпохе {epoch}\")\n",
    "        break\n",
    "# Сохраняем модель\n",
    "torch.save(model.state_dict(), 'linreg_torch.pth')\n",
    "\n",
    "# Загружаем модель\n",
    "new_model = LinearRegression(in_features=1)\n",
    "new_model.load_state_dict(torch.load('linreg_torch.pth'))\n",
    "new_model.eval()"
   ],
   "metadata": {
    "colab": {
     "base_uri": "https://localhost:8080/"
    },
    "id": "jYi4Ov2KOLnX",
    "outputId": "007da9f8-bfff-4d4f-eb7f-f2a39634271b"
   },
   "execution_count": 31,
   "outputs": [
    {
     "output_type": "stream",
     "name": "stdout",
     "text": [
      "Epoch 1: loss=0.5773, val_loss=0.1219\n",
      "Epoch 2: loss=0.2243, val_loss=0.1001\n",
      "Epoch 3: loss=0.1928, val_loss=0.0855\n",
      "Epoch 4: loss=0.1583, val_loss=0.0694\n",
      "Epoch 5: loss=0.1338, val_loss=0.0573\n",
      "Epoch 6: loss=0.1191, val_loss=0.0473\n",
      "Epoch 7: loss=0.1049, val_loss=0.0397\n",
      "Epoch 8: loss=0.0763, val_loss=0.0336\n",
      "Epoch 9: loss=0.0657, val_loss=0.0308\n",
      "Epoch 10: loss=0.0606, val_loss=0.0252\n",
      "Epoch 11: loss=0.0547, val_loss=0.0221\n",
      "Epoch 12: loss=0.0462, val_loss=0.0205\n",
      "Epoch 13: loss=0.0397, val_loss=0.0188\n",
      "Epoch 14: loss=0.0339, val_loss=0.0171\n",
      "Epoch 15: loss=0.0326, val_loss=0.0152\n",
      "Epoch 16: loss=0.0313, val_loss=0.0149\n",
      "Epoch 17: loss=0.0283, val_loss=0.0136\n",
      "Epoch 18: loss=0.0252, val_loss=0.0133\n",
      "Epoch 19: loss=0.0246, val_loss=0.0128\n",
      "Epoch 20: loss=0.0224, val_loss=0.0125\n",
      "Epoch 21: loss=0.0218, val_loss=0.0124\n",
      "Epoch 22: loss=0.0202, val_loss=0.0123\n",
      "Epoch 23: loss=0.0190, val_loss=0.0126\n",
      "Epoch 24: loss=0.0199, val_loss=0.0124\n",
      "Epoch 25: loss=0.0181, val_loss=0.0124\n",
      "Epoch 26: loss=0.0173, val_loss=0.0125\n",
      "Epoch 27: loss=0.0181, val_loss=0.0126\n",
      "Epoch 28: loss=0.0181, val_loss=0.0126\n",
      "Epoch 29: loss=0.0177, val_loss=0.0123\n",
      "Epoch 30: loss=0.0173, val_loss=0.0127\n",
      "Epoch 31: loss=0.0165, val_loss=0.0129\n",
      "Epoch 32: loss=0.0179, val_loss=0.0133\n",
      "Early stopping на эпохе 32\n"
     ]
    },
    {
     "output_type": "execute_result",
     "data": {
      "text/plain": [
       "LinearRegression(\n",
       "  (linear): Linear(in_features=1, out_features=1, bias=True)\n",
       ")"
      ]
     },
     "metadata": {},
     "execution_count": 31
    }
   ]
  },
  {
   "cell_type": "markdown",
   "source": [
    "# 1.2 Расширение логистической регрессии (15 баллов)\n",
    "# Модифицируйте существующую логистическую регрессию:\n",
    "# - Добавьте поддержку многоклассовой классификации\n",
    "# - Реализуйте метрики: precision, recall, F1-score, ROC-AUC\n",
    "# - Добавьте визуализацию confusion matrix"
   ],
   "metadata": {
    "id": "ntZ1ui8XYwzZ"
   }
  },
  {
   "cell_type": "code",
   "source": [
    "\n",
    "class LogisticRegression(nn.Module):\n",
    "    def __init__(self, in_features, num_classes):\n",
    "        super().__init__()\n",
    "        self.linear = nn.Linear(in_features, num_classes)\n",
    "\n",
    "    def forward(self, x):\n",
    "        return self.linear(x)\n"
   ],
   "metadata": {
    "id": "JSj7f4UcY1OR"
   },
   "execution_count": 32,
   "outputs": []
  },
  {
   "cell_type": "markdown",
   "source": [
    "## Функции для вычисления метрик и для вывода confusion_matrix, используя sklearn"
   ],
   "metadata": {
    "id": "0cxFduOzbu8J"
   }
  },
  {
   "cell_type": "code",
   "source": [
    "\n",
    "\n",
    "def compute_metrics(y_true, y_pred_logits):\n",
    "    y_pred_labels = y_pred_logits.argmax(dim=1).cpu().numpy()\n",
    "    y_true = y_true.cpu().numpy()\n",
    "\n",
    "    precision = precision_score(y_true, y_pred_labels)\n",
    "    recall = recall_score(y_true, y_pred_labels)\n",
    "    f1 = f1_score(y_true, y_pred_labels)\n",
    "\n",
    "    try:\n",
    "        y_true_oh = np.eye(np.max(y_true)+1)[y_true]\n",
    "        roc_auc = roc_auc_score(y_true_oh, y_pred_logits.softmax(dim=1).cpu().numpy(), multi_class='ovr')\n",
    "    except ValueError:\n",
    "        roc_auc = np.nan  # если данные некорректны для ROC-AUC\n",
    "\n",
    "    return precision, recall, f1, roc_auc\n",
    "\n",
    "def plot_confusion_matrix(y_true, y_pred_labels, labels):\n",
    "    cm = confusion_matrix(y_true, y_pred_labels)\n",
    "    plt.figure(figsize=(6, 5))\n",
    "    sns.heatmap(cm, annot=True, fmt='d', cmap='Blues', xticklabels=labels, yticklabels=labels)\n",
    "    plt.xlabel(\"Predicted\")\n",
    "    plt.ylabel(\"True\")\n",
    "    plt.title(\"Confusion Matrix\")\n",
    "    plt.show()"
   ],
   "metadata": {
    "id": "TOhJozBDZ7e3"
   },
   "execution_count": 33,
   "outputs": []
  },
  {
   "cell_type": "markdown",
   "source": [
    "## Разделим данные на train и val для вычисления метрик на val выборке"
   ],
   "metadata": {
    "id": "z_yu-mpDbg5z"
   }
  },
  {
   "cell_type": "code",
   "source": [
    "\n",
    "# Генерируем данные\n",
    "X, y = make_classification_data(n=200)\n",
    "\n",
    "# Разбиваем на train/val\n",
    "X_train, X_val, y_train, y_val = train_test_split(X.numpy(), y.numpy(), test_size=0.2, random_state=42)\n",
    "\n",
    "train_dataset = ClassificationDataset(torch.from_numpy(X_train), torch.from_numpy(y_train))\n",
    "val_dataset = ClassificationDataset(torch.from_numpy(X_val), torch.from_numpy(y_val))\n",
    "\n",
    "train_loader = DataLoader(train_dataset, batch_size=32, shuffle=True)\n",
    "val_loader = DataLoader(val_dataset, batch_size=32, shuffle=False)\n",
    "\n",
    "print(f'Размер train-датасета: {len(train_dataset)}')\n",
    "print(f'Размер val-датасета: {len(val_dataset)}')"
   ],
   "metadata": {
    "colab": {
     "base_uri": "https://localhost:8080/"
    },
    "id": "mpFY8G5zakjo",
    "outputId": "c761ac46-d094-4d5a-ee31-30e604544749"
   },
   "execution_count": 34,
   "outputs": [
    {
     "output_type": "stream",
     "name": "stdout",
     "text": [
      "Размер train-датасета: 160\n",
      "Размер val-датасета: 40\n"
     ]
    }
   ]
  },
  {
   "cell_type": "code",
   "source": [
    "# Создаём модель, функцию потерь и оптимизатор\n",
    "model = LogisticRegression(2, 1)\n",
    "criterion = nn.BCEWithLogitsLoss()\n",
    "optimizer = optim.SGD(model.parameters(), lr=0.1)\n",
    "\n",
    "# Обучаем модель\n",
    "epochs = 100\n",
    "for epoch in range(1, epochs + 1):\n",
    "    model.train()\n",
    "    total_loss = 0\n",
    "    total_acc = 0\n",
    "\n",
    "    for i, (batch_X, batch_y) in enumerate(train_loader):\n",
    "        optimizer.zero_grad()\n",
    "        logits = model(batch_X)\n",
    "        loss = criterion(logits, batch_y)\n",
    "        loss.backward()\n",
    "        optimizer.step()\n",
    "\n",
    "        y_pred = torch.sigmoid(logits)\n",
    "        acc = accuracy(y_pred, batch_y)\n",
    "\n",
    "        total_loss += loss.item()\n",
    "        total_acc += acc\n",
    "\n",
    "    avg_loss = total_loss / len(train_loader)\n",
    "    avg_acc = total_acc / len(train_loader)\n",
    "\n",
    "    # Validation\n",
    "    model.eval()\n",
    "    all_preds, all_targets = [], []\n",
    "\n",
    "    with torch.no_grad():\n",
    "        for val_X, val_y in val_loader:\n",
    "            logits = model(val_X)\n",
    "            all_preds.append(torch.sigmoid(logits))\n",
    "            all_targets.append(val_y)\n",
    "\n",
    "    all_preds = torch.cat(all_preds)\n",
    "    all_targets = torch.cat(all_targets).long().squeeze()\n",
    "\n",
    "    precision, recall, f1, roc_auc = compute_metrics(all_targets, all_preds)\n",
    "    log_epoch(epoch, avg_loss, acc=avg_acc, precision=precision, recall=recall, f1=f1, roc_auc=roc_auc)\n",
    "\n",
    "    if epoch == epochs:\n",
    "        y_pred_labels = (all_preds > 0.5).int().cpu().numpy()\n",
    "        plot_confusion_matrix(all_targets.cpu().numpy(), y_pred_labels, labels=[\"0\", \"1\"])\n",
    "\n",
    "# Сохраняем модель\n",
    "torch.save(model.state_dict(), 'logreg_torch.pth')\n",
    "\n",
    "# Загружаем модель\n",
    "new_model = LogisticRegression(2, 1)\n",
    "new_model.load_state_dict(torch.load('logreg_torch.pth'))\n",
    "new_model.eval()"
   ],
   "metadata": {
    "colab": {
     "base_uri": "https://localhost:8080/",
     "height": 1000
    },
    "id": "XZjcWliAZETo",
    "outputId": "2d1324a2-6243-4e07-b1eb-224f449d74aa"
   },
   "execution_count": 35,
   "outputs": [
    {
     "output_type": "stream",
     "name": "stdout",
     "text": [
      "Epoch 1: loss=0.7723, acc=0.4188, precision=0.0000, recall=0.0000, f1=0.0000, roc_auc=0.5000\n",
      "Epoch 2: loss=0.7629, acc=0.4062, precision=0.0000, recall=0.0000, f1=0.0000, roc_auc=0.5000\n",
      "Epoch 3: loss=0.7538, acc=0.4062, precision=0.0000, recall=0.0000, f1=0.0000, roc_auc=0.5000\n",
      "Epoch 4: loss=0.7453, acc=0.4250, precision=0.0000, recall=0.0000, f1=0.0000, roc_auc=0.5000\n",
      "Epoch 5: loss=0.7375, acc=0.4562, precision=0.0000, recall=0.0000, f1=0.0000, roc_auc=0.5000\n",
      "Epoch 6: loss=0.7290, acc=0.4625, precision=0.0000, recall=0.0000, f1=0.0000, roc_auc=0.5000\n",
      "Epoch 7: loss=0.7211, acc=0.4813, precision=0.0000, recall=0.0000, f1=0.0000, roc_auc=0.5000\n",
      "Epoch 8: loss=0.7137, acc=0.5062, precision=0.0000, recall=0.0000, f1=0.0000, roc_auc=0.5000\n",
      "Epoch 9: loss=0.7072, acc=0.5188, precision=0.0000, recall=0.0000, f1=0.0000, roc_auc=0.5000\n",
      "Epoch 10: loss=0.6990, acc=0.5188, precision=0.0000, recall=0.0000, f1=0.0000, roc_auc=0.5000\n",
      "Epoch 11: loss=0.6921, acc=0.5188, precision=0.0000, recall=0.0000, f1=0.0000, roc_auc=0.5000\n",
      "Epoch 12: loss=0.6849, acc=0.5188, precision=0.0000, recall=0.0000, f1=0.0000, roc_auc=0.5000\n",
      "Epoch 13: loss=0.6786, acc=0.5188, precision=0.0000, recall=0.0000, f1=0.0000, roc_auc=0.5000\n",
      "Epoch 14: loss=0.6722, acc=0.5687, precision=0.0000, recall=0.0000, f1=0.0000, roc_auc=0.5000\n",
      "Epoch 15: loss=0.6651, acc=0.5813, precision=0.0000, recall=0.0000, f1=0.0000, roc_auc=0.5000\n"
     ]
    },
    {
     "output_type": "stream",
     "name": "stderr",
     "text": [
      "/usr/local/lib/python3.11/dist-packages/sklearn/metrics/_classification.py:1565: UndefinedMetricWarning: Precision is ill-defined and being set to 0.0 due to no predicted samples. Use `zero_division` parameter to control this behavior.\n",
      "  _warn_prf(average, modifier, f\"{metric.capitalize()} is\", len(result))\n",
      "/usr/local/lib/python3.11/dist-packages/sklearn/metrics/_classification.py:1565: UndefinedMetricWarning: Precision is ill-defined and being set to 0.0 due to no predicted samples. Use `zero_division` parameter to control this behavior.\n",
      "  _warn_prf(average, modifier, f\"{metric.capitalize()} is\", len(result))\n",
      "/usr/local/lib/python3.11/dist-packages/sklearn/metrics/_classification.py:1565: UndefinedMetricWarning: Precision is ill-defined and being set to 0.0 due to no predicted samples. Use `zero_division` parameter to control this behavior.\n",
      "  _warn_prf(average, modifier, f\"{metric.capitalize()} is\", len(result))\n",
      "/usr/local/lib/python3.11/dist-packages/sklearn/metrics/_classification.py:1565: UndefinedMetricWarning: Precision is ill-defined and being set to 0.0 due to no predicted samples. Use `zero_division` parameter to control this behavior.\n",
      "  _warn_prf(average, modifier, f\"{metric.capitalize()} is\", len(result))\n",
      "/usr/local/lib/python3.11/dist-packages/sklearn/metrics/_classification.py:1565: UndefinedMetricWarning: Precision is ill-defined and being set to 0.0 due to no predicted samples. Use `zero_division` parameter to control this behavior.\n",
      "  _warn_prf(average, modifier, f\"{metric.capitalize()} is\", len(result))\n",
      "/usr/local/lib/python3.11/dist-packages/sklearn/metrics/_classification.py:1565: UndefinedMetricWarning: Precision is ill-defined and being set to 0.0 due to no predicted samples. Use `zero_division` parameter to control this behavior.\n",
      "  _warn_prf(average, modifier, f\"{metric.capitalize()} is\", len(result))\n",
      "/usr/local/lib/python3.11/dist-packages/sklearn/metrics/_classification.py:1565: UndefinedMetricWarning: Precision is ill-defined and being set to 0.0 due to no predicted samples. Use `zero_division` parameter to control this behavior.\n",
      "  _warn_prf(average, modifier, f\"{metric.capitalize()} is\", len(result))\n",
      "/usr/local/lib/python3.11/dist-packages/sklearn/metrics/_classification.py:1565: UndefinedMetricWarning: Precision is ill-defined and being set to 0.0 due to no predicted samples. Use `zero_division` parameter to control this behavior.\n",
      "  _warn_prf(average, modifier, f\"{metric.capitalize()} is\", len(result))\n",
      "/usr/local/lib/python3.11/dist-packages/sklearn/metrics/_classification.py:1565: UndefinedMetricWarning: Precision is ill-defined and being set to 0.0 due to no predicted samples. Use `zero_division` parameter to control this behavior.\n",
      "  _warn_prf(average, modifier, f\"{metric.capitalize()} is\", len(result))\n",
      "/usr/local/lib/python3.11/dist-packages/sklearn/metrics/_classification.py:1565: UndefinedMetricWarning: Precision is ill-defined and being set to 0.0 due to no predicted samples. Use `zero_division` parameter to control this behavior.\n",
      "  _warn_prf(average, modifier, f\"{metric.capitalize()} is\", len(result))\n",
      "/usr/local/lib/python3.11/dist-packages/sklearn/metrics/_classification.py:1565: UndefinedMetricWarning: Precision is ill-defined and being set to 0.0 due to no predicted samples. Use `zero_division` parameter to control this behavior.\n",
      "  _warn_prf(average, modifier, f\"{metric.capitalize()} is\", len(result))\n",
      "/usr/local/lib/python3.11/dist-packages/sklearn/metrics/_classification.py:1565: UndefinedMetricWarning: Precision is ill-defined and being set to 0.0 due to no predicted samples. Use `zero_division` parameter to control this behavior.\n",
      "  _warn_prf(average, modifier, f\"{metric.capitalize()} is\", len(result))\n",
      "/usr/local/lib/python3.11/dist-packages/sklearn/metrics/_classification.py:1565: UndefinedMetricWarning: Precision is ill-defined and being set to 0.0 due to no predicted samples. Use `zero_division` parameter to control this behavior.\n",
      "  _warn_prf(average, modifier, f\"{metric.capitalize()} is\", len(result))\n",
      "/usr/local/lib/python3.11/dist-packages/sklearn/metrics/_classification.py:1565: UndefinedMetricWarning: Precision is ill-defined and being set to 0.0 due to no predicted samples. Use `zero_division` parameter to control this behavior.\n",
      "  _warn_prf(average, modifier, f\"{metric.capitalize()} is\", len(result))\n",
      "/usr/local/lib/python3.11/dist-packages/sklearn/metrics/_classification.py:1565: UndefinedMetricWarning: Precision is ill-defined and being set to 0.0 due to no predicted samples. Use `zero_division` parameter to control this behavior.\n",
      "  _warn_prf(average, modifier, f\"{metric.capitalize()} is\", len(result))\n",
      "/usr/local/lib/python3.11/dist-packages/sklearn/metrics/_classification.py:1565: UndefinedMetricWarning: Precision is ill-defined and being set to 0.0 due to no predicted samples. Use `zero_division` parameter to control this behavior.\n",
      "  _warn_prf(average, modifier, f\"{metric.capitalize()} is\", len(result))\n",
      "/usr/local/lib/python3.11/dist-packages/sklearn/metrics/_classification.py:1565: UndefinedMetricWarning: Precision is ill-defined and being set to 0.0 due to no predicted samples. Use `zero_division` parameter to control this behavior.\n",
      "  _warn_prf(average, modifier, f\"{metric.capitalize()} is\", len(result))\n"
     ]
    },
    {
     "output_type": "stream",
     "name": "stdout",
     "text": [
      "Epoch 16: loss=0.6588, acc=0.7000, precision=0.0000, recall=0.0000, f1=0.0000, roc_auc=0.5000\n",
      "Epoch 17: loss=0.6526, acc=0.7250, precision=0.0000, recall=0.0000, f1=0.0000, roc_auc=0.5000\n",
      "Epoch 18: loss=0.6466, acc=0.7438, precision=0.0000, recall=0.0000, f1=0.0000, roc_auc=0.5000\n",
      "Epoch 19: loss=0.6409, acc=0.7812, precision=0.0000, recall=0.0000, f1=0.0000, roc_auc=0.5000\n",
      "Epoch 20: loss=0.6345, acc=0.7688, precision=0.0000, recall=0.0000, f1=0.0000, roc_auc=0.5000\n",
      "Epoch 21: loss=0.6288, acc=0.8063, precision=0.0000, recall=0.0000, f1=0.0000, roc_auc=0.5000\n",
      "Epoch 22: loss=0.6231, acc=0.8250, precision=0.0000, recall=0.0000, f1=0.0000, roc_auc=0.5000\n",
      "Epoch 23: loss=0.6180, acc=0.8313, precision=0.0000, recall=0.0000, f1=0.0000, roc_auc=0.5000\n",
      "Epoch 24: loss=0.6129, acc=0.8250, precision=0.0000, recall=0.0000, f1=0.0000, roc_auc=0.5000\n",
      "Epoch 25: loss=0.6069, acc=0.8562, precision=0.0000, recall=0.0000, f1=0.0000, roc_auc=0.5000\n",
      "Epoch 26: loss=0.6017, acc=0.8625, precision=0.0000, recall=0.0000, f1=0.0000, roc_auc=0.5000\n",
      "Epoch 27: loss=0.5971, acc=0.8750, precision=0.0000, recall=0.0000, f1=0.0000, roc_auc=0.5000\n",
      "Epoch 28: loss=0.5917, acc=0.8875, precision=0.0000, recall=0.0000, f1=0.0000, roc_auc=0.5000\n",
      "Epoch 29: loss=0.5871, acc=0.8750, precision=0.0000, recall=0.0000, f1=0.0000, roc_auc=0.5000\n",
      "Epoch 30: loss=0.5827, acc=0.9062, precision=0.0000, recall=0.0000, f1=0.0000, roc_auc=0.5000\n",
      "Epoch 31: loss=0.5771, acc=0.9000, precision=0.0000, recall=0.0000, f1=0.0000, roc_auc=0.5000\n",
      "Epoch 32: loss=0.5727, acc=0.9187, precision=0.0000, recall=0.0000, f1=0.0000, roc_auc=0.5000\n",
      "Epoch 33: loss=0.5682, acc=0.9187, precision=0.0000, recall=0.0000, f1=0.0000, roc_auc=0.5000\n"
     ]
    },
    {
     "output_type": "stream",
     "name": "stderr",
     "text": [
      "/usr/local/lib/python3.11/dist-packages/sklearn/metrics/_classification.py:1565: UndefinedMetricWarning: Precision is ill-defined and being set to 0.0 due to no predicted samples. Use `zero_division` parameter to control this behavior.\n",
      "  _warn_prf(average, modifier, f\"{metric.capitalize()} is\", len(result))\n",
      "/usr/local/lib/python3.11/dist-packages/sklearn/metrics/_classification.py:1565: UndefinedMetricWarning: Precision is ill-defined and being set to 0.0 due to no predicted samples. Use `zero_division` parameter to control this behavior.\n",
      "  _warn_prf(average, modifier, f\"{metric.capitalize()} is\", len(result))\n",
      "/usr/local/lib/python3.11/dist-packages/sklearn/metrics/_classification.py:1565: UndefinedMetricWarning: Precision is ill-defined and being set to 0.0 due to no predicted samples. Use `zero_division` parameter to control this behavior.\n",
      "  _warn_prf(average, modifier, f\"{metric.capitalize()} is\", len(result))\n",
      "/usr/local/lib/python3.11/dist-packages/sklearn/metrics/_classification.py:1565: UndefinedMetricWarning: Precision is ill-defined and being set to 0.0 due to no predicted samples. Use `zero_division` parameter to control this behavior.\n",
      "  _warn_prf(average, modifier, f\"{metric.capitalize()} is\", len(result))\n",
      "/usr/local/lib/python3.11/dist-packages/sklearn/metrics/_classification.py:1565: UndefinedMetricWarning: Precision is ill-defined and being set to 0.0 due to no predicted samples. Use `zero_division` parameter to control this behavior.\n",
      "  _warn_prf(average, modifier, f\"{metric.capitalize()} is\", len(result))\n",
      "/usr/local/lib/python3.11/dist-packages/sklearn/metrics/_classification.py:1565: UndefinedMetricWarning: Precision is ill-defined and being set to 0.0 due to no predicted samples. Use `zero_division` parameter to control this behavior.\n",
      "  _warn_prf(average, modifier, f\"{metric.capitalize()} is\", len(result))\n",
      "/usr/local/lib/python3.11/dist-packages/sklearn/metrics/_classification.py:1565: UndefinedMetricWarning: Precision is ill-defined and being set to 0.0 due to no predicted samples. Use `zero_division` parameter to control this behavior.\n",
      "  _warn_prf(average, modifier, f\"{metric.capitalize()} is\", len(result))\n",
      "/usr/local/lib/python3.11/dist-packages/sklearn/metrics/_classification.py:1565: UndefinedMetricWarning: Precision is ill-defined and being set to 0.0 due to no predicted samples. Use `zero_division` parameter to control this behavior.\n",
      "  _warn_prf(average, modifier, f\"{metric.capitalize()} is\", len(result))\n",
      "/usr/local/lib/python3.11/dist-packages/sklearn/metrics/_classification.py:1565: UndefinedMetricWarning: Precision is ill-defined and being set to 0.0 due to no predicted samples. Use `zero_division` parameter to control this behavior.\n",
      "  _warn_prf(average, modifier, f\"{metric.capitalize()} is\", len(result))\n",
      "/usr/local/lib/python3.11/dist-packages/sklearn/metrics/_classification.py:1565: UndefinedMetricWarning: Precision is ill-defined and being set to 0.0 due to no predicted samples. Use `zero_division` parameter to control this behavior.\n",
      "  _warn_prf(average, modifier, f\"{metric.capitalize()} is\", len(result))\n",
      "/usr/local/lib/python3.11/dist-packages/sklearn/metrics/_classification.py:1565: UndefinedMetricWarning: Precision is ill-defined and being set to 0.0 due to no predicted samples. Use `zero_division` parameter to control this behavior.\n",
      "  _warn_prf(average, modifier, f\"{metric.capitalize()} is\", len(result))\n",
      "/usr/local/lib/python3.11/dist-packages/sklearn/metrics/_classification.py:1565: UndefinedMetricWarning: Precision is ill-defined and being set to 0.0 due to no predicted samples. Use `zero_division` parameter to control this behavior.\n",
      "  _warn_prf(average, modifier, f\"{metric.capitalize()} is\", len(result))\n",
      "/usr/local/lib/python3.11/dist-packages/sklearn/metrics/_classification.py:1565: UndefinedMetricWarning: Precision is ill-defined and being set to 0.0 due to no predicted samples. Use `zero_division` parameter to control this behavior.\n",
      "  _warn_prf(average, modifier, f\"{metric.capitalize()} is\", len(result))\n",
      "/usr/local/lib/python3.11/dist-packages/sklearn/metrics/_classification.py:1565: UndefinedMetricWarning: Precision is ill-defined and being set to 0.0 due to no predicted samples. Use `zero_division` parameter to control this behavior.\n",
      "  _warn_prf(average, modifier, f\"{metric.capitalize()} is\", len(result))\n",
      "/usr/local/lib/python3.11/dist-packages/sklearn/metrics/_classification.py:1565: UndefinedMetricWarning: Precision is ill-defined and being set to 0.0 due to no predicted samples. Use `zero_division` parameter to control this behavior.\n",
      "  _warn_prf(average, modifier, f\"{metric.capitalize()} is\", len(result))\n",
      "/usr/local/lib/python3.11/dist-packages/sklearn/metrics/_classification.py:1565: UndefinedMetricWarning: Precision is ill-defined and being set to 0.0 due to no predicted samples. Use `zero_division` parameter to control this behavior.\n",
      "  _warn_prf(average, modifier, f\"{metric.capitalize()} is\", len(result))\n",
      "/usr/local/lib/python3.11/dist-packages/sklearn/metrics/_classification.py:1565: UndefinedMetricWarning: Precision is ill-defined and being set to 0.0 due to no predicted samples. Use `zero_division` parameter to control this behavior.\n",
      "  _warn_prf(average, modifier, f\"{metric.capitalize()} is\", len(result))\n",
      "/usr/local/lib/python3.11/dist-packages/sklearn/metrics/_classification.py:1565: UndefinedMetricWarning: Precision is ill-defined and being set to 0.0 due to no predicted samples. Use `zero_division` parameter to control this behavior.\n",
      "  _warn_prf(average, modifier, f\"{metric.capitalize()} is\", len(result))\n"
     ]
    },
    {
     "output_type": "stream",
     "name": "stdout",
     "text": [
      "Epoch 34: loss=0.5635, acc=0.9125, precision=0.0000, recall=0.0000, f1=0.0000, roc_auc=0.5000\n",
      "Epoch 35: loss=0.5594, acc=0.9062, precision=0.0000, recall=0.0000, f1=0.0000, roc_auc=0.5000\n",
      "Epoch 36: loss=0.5551, acc=0.9125, precision=0.0000, recall=0.0000, f1=0.0000, roc_auc=0.5000\n",
      "Epoch 37: loss=0.5512, acc=0.9313, precision=0.0000, recall=0.0000, f1=0.0000, roc_auc=0.5000\n",
      "Epoch 38: loss=0.5467, acc=0.9187, precision=0.0000, recall=0.0000, f1=0.0000, roc_auc=0.5000\n",
      "Epoch 39: loss=0.5425, acc=0.9187, precision=0.0000, recall=0.0000, f1=0.0000, roc_auc=0.5000\n",
      "Epoch 40: loss=0.5387, acc=0.9250, precision=0.0000, recall=0.0000, f1=0.0000, roc_auc=0.5000\n",
      "Epoch 41: loss=0.5349, acc=0.9187, precision=0.0000, recall=0.0000, f1=0.0000, roc_auc=0.5000\n",
      "Epoch 42: loss=0.5309, acc=0.9250, precision=0.0000, recall=0.0000, f1=0.0000, roc_auc=0.5000\n",
      "Epoch 43: loss=0.5274, acc=0.9187, precision=0.0000, recall=0.0000, f1=0.0000, roc_auc=0.5000\n",
      "Epoch 44: loss=0.5237, acc=0.9313, precision=0.0000, recall=0.0000, f1=0.0000, roc_auc=0.5000\n",
      "Epoch 45: loss=0.5199, acc=0.9313, precision=0.0000, recall=0.0000, f1=0.0000, roc_auc=0.5000\n",
      "Epoch 46: loss=0.5161, acc=0.9250, precision=0.0000, recall=0.0000, f1=0.0000, roc_auc=0.5000\n",
      "Epoch 47: loss=0.5129, acc=0.9313, precision=0.0000, recall=0.0000, f1=0.0000, roc_auc=0.5000\n",
      "Epoch 48: loss=0.5093, acc=0.9313, precision=0.0000, recall=0.0000, f1=0.0000, roc_auc=0.5000\n",
      "Epoch 49: loss=0.5059, acc=0.9250, precision=0.0000, recall=0.0000, f1=0.0000, roc_auc=0.5000\n",
      "Epoch 50: loss=0.5025, acc=0.9375, precision=0.0000, recall=0.0000, f1=0.0000, roc_auc=0.5000\n"
     ]
    },
    {
     "output_type": "stream",
     "name": "stderr",
     "text": [
      "/usr/local/lib/python3.11/dist-packages/sklearn/metrics/_classification.py:1565: UndefinedMetricWarning: Precision is ill-defined and being set to 0.0 due to no predicted samples. Use `zero_division` parameter to control this behavior.\n",
      "  _warn_prf(average, modifier, f\"{metric.capitalize()} is\", len(result))\n",
      "/usr/local/lib/python3.11/dist-packages/sklearn/metrics/_classification.py:1565: UndefinedMetricWarning: Precision is ill-defined and being set to 0.0 due to no predicted samples. Use `zero_division` parameter to control this behavior.\n",
      "  _warn_prf(average, modifier, f\"{metric.capitalize()} is\", len(result))\n",
      "/usr/local/lib/python3.11/dist-packages/sklearn/metrics/_classification.py:1565: UndefinedMetricWarning: Precision is ill-defined and being set to 0.0 due to no predicted samples. Use `zero_division` parameter to control this behavior.\n",
      "  _warn_prf(average, modifier, f\"{metric.capitalize()} is\", len(result))\n",
      "/usr/local/lib/python3.11/dist-packages/sklearn/metrics/_classification.py:1565: UndefinedMetricWarning: Precision is ill-defined and being set to 0.0 due to no predicted samples. Use `zero_division` parameter to control this behavior.\n",
      "  _warn_prf(average, modifier, f\"{metric.capitalize()} is\", len(result))\n",
      "/usr/local/lib/python3.11/dist-packages/sklearn/metrics/_classification.py:1565: UndefinedMetricWarning: Precision is ill-defined and being set to 0.0 due to no predicted samples. Use `zero_division` parameter to control this behavior.\n",
      "  _warn_prf(average, modifier, f\"{metric.capitalize()} is\", len(result))\n",
      "/usr/local/lib/python3.11/dist-packages/sklearn/metrics/_classification.py:1565: UndefinedMetricWarning: Precision is ill-defined and being set to 0.0 due to no predicted samples. Use `zero_division` parameter to control this behavior.\n",
      "  _warn_prf(average, modifier, f\"{metric.capitalize()} is\", len(result))\n",
      "/usr/local/lib/python3.11/dist-packages/sklearn/metrics/_classification.py:1565: UndefinedMetricWarning: Precision is ill-defined and being set to 0.0 due to no predicted samples. Use `zero_division` parameter to control this behavior.\n",
      "  _warn_prf(average, modifier, f\"{metric.capitalize()} is\", len(result))\n",
      "/usr/local/lib/python3.11/dist-packages/sklearn/metrics/_classification.py:1565: UndefinedMetricWarning: Precision is ill-defined and being set to 0.0 due to no predicted samples. Use `zero_division` parameter to control this behavior.\n",
      "  _warn_prf(average, modifier, f\"{metric.capitalize()} is\", len(result))\n",
      "/usr/local/lib/python3.11/dist-packages/sklearn/metrics/_classification.py:1565: UndefinedMetricWarning: Precision is ill-defined and being set to 0.0 due to no predicted samples. Use `zero_division` parameter to control this behavior.\n",
      "  _warn_prf(average, modifier, f\"{metric.capitalize()} is\", len(result))\n",
      "/usr/local/lib/python3.11/dist-packages/sklearn/metrics/_classification.py:1565: UndefinedMetricWarning: Precision is ill-defined and being set to 0.0 due to no predicted samples. Use `zero_division` parameter to control this behavior.\n",
      "  _warn_prf(average, modifier, f\"{metric.capitalize()} is\", len(result))\n",
      "/usr/local/lib/python3.11/dist-packages/sklearn/metrics/_classification.py:1565: UndefinedMetricWarning: Precision is ill-defined and being set to 0.0 due to no predicted samples. Use `zero_division` parameter to control this behavior.\n",
      "  _warn_prf(average, modifier, f\"{metric.capitalize()} is\", len(result))\n",
      "/usr/local/lib/python3.11/dist-packages/sklearn/metrics/_classification.py:1565: UndefinedMetricWarning: Precision is ill-defined and being set to 0.0 due to no predicted samples. Use `zero_division` parameter to control this behavior.\n",
      "  _warn_prf(average, modifier, f\"{metric.capitalize()} is\", len(result))\n",
      "/usr/local/lib/python3.11/dist-packages/sklearn/metrics/_classification.py:1565: UndefinedMetricWarning: Precision is ill-defined and being set to 0.0 due to no predicted samples. Use `zero_division` parameter to control this behavior.\n",
      "  _warn_prf(average, modifier, f\"{metric.capitalize()} is\", len(result))\n",
      "/usr/local/lib/python3.11/dist-packages/sklearn/metrics/_classification.py:1565: UndefinedMetricWarning: Precision is ill-defined and being set to 0.0 due to no predicted samples. Use `zero_division` parameter to control this behavior.\n",
      "  _warn_prf(average, modifier, f\"{metric.capitalize()} is\", len(result))\n",
      "/usr/local/lib/python3.11/dist-packages/sklearn/metrics/_classification.py:1565: UndefinedMetricWarning: Precision is ill-defined and being set to 0.0 due to no predicted samples. Use `zero_division` parameter to control this behavior.\n",
      "  _warn_prf(average, modifier, f\"{metric.capitalize()} is\", len(result))\n",
      "/usr/local/lib/python3.11/dist-packages/sklearn/metrics/_classification.py:1565: UndefinedMetricWarning: Precision is ill-defined and being set to 0.0 due to no predicted samples. Use `zero_division` parameter to control this behavior.\n",
      "  _warn_prf(average, modifier, f\"{metric.capitalize()} is\", len(result))\n",
      "/usr/local/lib/python3.11/dist-packages/sklearn/metrics/_classification.py:1565: UndefinedMetricWarning: Precision is ill-defined and being set to 0.0 due to no predicted samples. Use `zero_division` parameter to control this behavior.\n",
      "  _warn_prf(average, modifier, f\"{metric.capitalize()} is\", len(result))\n",
      "/usr/local/lib/python3.11/dist-packages/sklearn/metrics/_classification.py:1565: UndefinedMetricWarning: Precision is ill-defined and being set to 0.0 due to no predicted samples. Use `zero_division` parameter to control this behavior.\n",
      "  _warn_prf(average, modifier, f\"{metric.capitalize()} is\", len(result))\n"
     ]
    },
    {
     "output_type": "stream",
     "name": "stdout",
     "text": [
      "Epoch 51: loss=0.4994, acc=0.9313, precision=0.0000, recall=0.0000, f1=0.0000, roc_auc=0.5000\n",
      "Epoch 52: loss=0.4962, acc=0.9375, precision=0.0000, recall=0.0000, f1=0.0000, roc_auc=0.5000\n",
      "Epoch 53: loss=0.4930, acc=0.9375, precision=0.0000, recall=0.0000, f1=0.0000, roc_auc=0.5000\n",
      "Epoch 54: loss=0.4899, acc=0.9375, precision=0.0000, recall=0.0000, f1=0.0000, roc_auc=0.5000\n",
      "Epoch 55: loss=0.4868, acc=0.9313, precision=0.0000, recall=0.0000, f1=0.0000, roc_auc=0.5000\n",
      "Epoch 56: loss=0.4837, acc=0.9437, precision=0.0000, recall=0.0000, f1=0.0000, roc_auc=0.5000\n",
      "Epoch 57: loss=0.4809, acc=0.9375, precision=0.0000, recall=0.0000, f1=0.0000, roc_auc=0.5000\n",
      "Epoch 58: loss=0.4783, acc=0.9375, precision=0.0000, recall=0.0000, f1=0.0000, roc_auc=0.5000\n",
      "Epoch 59: loss=0.4754, acc=0.9375, precision=0.0000, recall=0.0000, f1=0.0000, roc_auc=0.5000\n",
      "Epoch 60: loss=0.4723, acc=0.9500, precision=0.0000, recall=0.0000, f1=0.0000, roc_auc=0.5000\n",
      "Epoch 61: loss=0.4696, acc=0.9437, precision=0.0000, recall=0.0000, f1=0.0000, roc_auc=0.5000\n",
      "Epoch 62: loss=0.4673, acc=0.9437, precision=0.0000, recall=0.0000, f1=0.0000, roc_auc=0.5000\n",
      "Epoch 63: loss=0.4644, acc=0.9500, precision=0.0000, recall=0.0000, f1=0.0000, roc_auc=0.5000\n",
      "Epoch 64: loss=0.4618, acc=0.9500, precision=0.0000, recall=0.0000, f1=0.0000, roc_auc=0.5000\n",
      "Epoch 65: loss=0.4591, acc=0.9500, precision=0.0000, recall=0.0000, f1=0.0000, roc_auc=0.5000\n",
      "Epoch 66: loss=0.4564, acc=0.9500, precision=0.0000, recall=0.0000, f1=0.0000, roc_auc=0.5000\n",
      "Epoch 67: loss=0.4540, acc=0.9500, precision=0.0000, recall=0.0000, f1=0.0000, roc_auc=0.5000\n",
      "Epoch 68: loss=0.4515, acc=0.9500, precision=0.0000, recall=0.0000, f1=0.0000, roc_auc=0.5000\n",
      "Epoch 69: loss=0.4493, acc=0.9500, precision=0.0000, recall=0.0000, f1=0.0000, roc_auc=0.5000\n"
     ]
    },
    {
     "output_type": "stream",
     "name": "stderr",
     "text": [
      "/usr/local/lib/python3.11/dist-packages/sklearn/metrics/_classification.py:1565: UndefinedMetricWarning: Precision is ill-defined and being set to 0.0 due to no predicted samples. Use `zero_division` parameter to control this behavior.\n",
      "  _warn_prf(average, modifier, f\"{metric.capitalize()} is\", len(result))\n",
      "/usr/local/lib/python3.11/dist-packages/sklearn/metrics/_classification.py:1565: UndefinedMetricWarning: Precision is ill-defined and being set to 0.0 due to no predicted samples. Use `zero_division` parameter to control this behavior.\n",
      "  _warn_prf(average, modifier, f\"{metric.capitalize()} is\", len(result))\n",
      "/usr/local/lib/python3.11/dist-packages/sklearn/metrics/_classification.py:1565: UndefinedMetricWarning: Precision is ill-defined and being set to 0.0 due to no predicted samples. Use `zero_division` parameter to control this behavior.\n",
      "  _warn_prf(average, modifier, f\"{metric.capitalize()} is\", len(result))\n",
      "/usr/local/lib/python3.11/dist-packages/sklearn/metrics/_classification.py:1565: UndefinedMetricWarning: Precision is ill-defined and being set to 0.0 due to no predicted samples. Use `zero_division` parameter to control this behavior.\n",
      "  _warn_prf(average, modifier, f\"{metric.capitalize()} is\", len(result))\n",
      "/usr/local/lib/python3.11/dist-packages/sklearn/metrics/_classification.py:1565: UndefinedMetricWarning: Precision is ill-defined and being set to 0.0 due to no predicted samples. Use `zero_division` parameter to control this behavior.\n",
      "  _warn_prf(average, modifier, f\"{metric.capitalize()} is\", len(result))\n",
      "/usr/local/lib/python3.11/dist-packages/sklearn/metrics/_classification.py:1565: UndefinedMetricWarning: Precision is ill-defined and being set to 0.0 due to no predicted samples. Use `zero_division` parameter to control this behavior.\n",
      "  _warn_prf(average, modifier, f\"{metric.capitalize()} is\", len(result))\n",
      "/usr/local/lib/python3.11/dist-packages/sklearn/metrics/_classification.py:1565: UndefinedMetricWarning: Precision is ill-defined and being set to 0.0 due to no predicted samples. Use `zero_division` parameter to control this behavior.\n",
      "  _warn_prf(average, modifier, f\"{metric.capitalize()} is\", len(result))\n",
      "/usr/local/lib/python3.11/dist-packages/sklearn/metrics/_classification.py:1565: UndefinedMetricWarning: Precision is ill-defined and being set to 0.0 due to no predicted samples. Use `zero_division` parameter to control this behavior.\n",
      "  _warn_prf(average, modifier, f\"{metric.capitalize()} is\", len(result))\n",
      "/usr/local/lib/python3.11/dist-packages/sklearn/metrics/_classification.py:1565: UndefinedMetricWarning: Precision is ill-defined and being set to 0.0 due to no predicted samples. Use `zero_division` parameter to control this behavior.\n",
      "  _warn_prf(average, modifier, f\"{metric.capitalize()} is\", len(result))\n",
      "/usr/local/lib/python3.11/dist-packages/sklearn/metrics/_classification.py:1565: UndefinedMetricWarning: Precision is ill-defined and being set to 0.0 due to no predicted samples. Use `zero_division` parameter to control this behavior.\n",
      "  _warn_prf(average, modifier, f\"{metric.capitalize()} is\", len(result))\n",
      "/usr/local/lib/python3.11/dist-packages/sklearn/metrics/_classification.py:1565: UndefinedMetricWarning: Precision is ill-defined and being set to 0.0 due to no predicted samples. Use `zero_division` parameter to control this behavior.\n",
      "  _warn_prf(average, modifier, f\"{metric.capitalize()} is\", len(result))\n",
      "/usr/local/lib/python3.11/dist-packages/sklearn/metrics/_classification.py:1565: UndefinedMetricWarning: Precision is ill-defined and being set to 0.0 due to no predicted samples. Use `zero_division` parameter to control this behavior.\n",
      "  _warn_prf(average, modifier, f\"{metric.capitalize()} is\", len(result))\n",
      "/usr/local/lib/python3.11/dist-packages/sklearn/metrics/_classification.py:1565: UndefinedMetricWarning: Precision is ill-defined and being set to 0.0 due to no predicted samples. Use `zero_division` parameter to control this behavior.\n",
      "  _warn_prf(average, modifier, f\"{metric.capitalize()} is\", len(result))\n",
      "/usr/local/lib/python3.11/dist-packages/sklearn/metrics/_classification.py:1565: UndefinedMetricWarning: Precision is ill-defined and being set to 0.0 due to no predicted samples. Use `zero_division` parameter to control this behavior.\n",
      "  _warn_prf(average, modifier, f\"{metric.capitalize()} is\", len(result))\n",
      "/usr/local/lib/python3.11/dist-packages/sklearn/metrics/_classification.py:1565: UndefinedMetricWarning: Precision is ill-defined and being set to 0.0 due to no predicted samples. Use `zero_division` parameter to control this behavior.\n",
      "  _warn_prf(average, modifier, f\"{metric.capitalize()} is\", len(result))\n",
      "/usr/local/lib/python3.11/dist-packages/sklearn/metrics/_classification.py:1565: UndefinedMetricWarning: Precision is ill-defined and being set to 0.0 due to no predicted samples. Use `zero_division` parameter to control this behavior.\n",
      "  _warn_prf(average, modifier, f\"{metric.capitalize()} is\", len(result))\n",
      "/usr/local/lib/python3.11/dist-packages/sklearn/metrics/_classification.py:1565: UndefinedMetricWarning: Precision is ill-defined and being set to 0.0 due to no predicted samples. Use `zero_division` parameter to control this behavior.\n",
      "  _warn_prf(average, modifier, f\"{metric.capitalize()} is\", len(result))\n"
     ]
    },
    {
     "output_type": "stream",
     "name": "stdout",
     "text": [
      "Epoch 70: loss=0.4469, acc=0.9500, precision=0.0000, recall=0.0000, f1=0.0000, roc_auc=0.5000\n",
      "Epoch 71: loss=0.4445, acc=0.9563, precision=0.0000, recall=0.0000, f1=0.0000, roc_auc=0.5000\n",
      "Epoch 72: loss=0.4421, acc=0.9563, precision=0.0000, recall=0.0000, f1=0.0000, roc_auc=0.5000\n",
      "Epoch 73: loss=0.4397, acc=0.9500, precision=0.0000, recall=0.0000, f1=0.0000, roc_auc=0.5000\n",
      "Epoch 74: loss=0.4379, acc=0.9500, precision=0.0000, recall=0.0000, f1=0.0000, roc_auc=0.5000\n",
      "Epoch 75: loss=0.4353, acc=0.9500, precision=0.0000, recall=0.0000, f1=0.0000, roc_auc=0.5000\n",
      "Epoch 76: loss=0.4334, acc=0.9563, precision=0.0000, recall=0.0000, f1=0.0000, roc_auc=0.5000\n",
      "Epoch 77: loss=0.4312, acc=0.9500, precision=0.0000, recall=0.0000, f1=0.0000, roc_auc=0.5000\n",
      "Epoch 78: loss=0.4291, acc=0.9563, precision=0.0000, recall=0.0000, f1=0.0000, roc_auc=0.5000\n",
      "Epoch 79: loss=0.4266, acc=0.9500, precision=0.0000, recall=0.0000, f1=0.0000, roc_auc=0.5000\n",
      "Epoch 80: loss=0.4246, acc=0.9563, precision=0.0000, recall=0.0000, f1=0.0000, roc_auc=0.5000\n",
      "Epoch 81: loss=0.4226, acc=0.9563, precision=0.0000, recall=0.0000, f1=0.0000, roc_auc=0.5000\n",
      "Epoch 82: loss=0.4208, acc=0.9500, precision=0.0000, recall=0.0000, f1=0.0000, roc_auc=0.5000\n",
      "Epoch 83: loss=0.4191, acc=0.9500, precision=0.0000, recall=0.0000, f1=0.0000, roc_auc=0.5000\n",
      "Epoch 84: loss=0.4168, acc=0.9500, precision=0.0000, recall=0.0000, f1=0.0000, roc_auc=0.5000\n",
      "Epoch 85: loss=0.4148, acc=0.9625, precision=0.0000, recall=0.0000, f1=0.0000, roc_auc=0.5000\n",
      "Epoch 86: loss=0.4129, acc=0.9625, precision=0.0000, recall=0.0000, f1=0.0000, roc_auc=0.5000\n"
     ]
    },
    {
     "output_type": "stream",
     "name": "stderr",
     "text": [
      "/usr/local/lib/python3.11/dist-packages/sklearn/metrics/_classification.py:1565: UndefinedMetricWarning: Precision is ill-defined and being set to 0.0 due to no predicted samples. Use `zero_division` parameter to control this behavior.\n",
      "  _warn_prf(average, modifier, f\"{metric.capitalize()} is\", len(result))\n",
      "/usr/local/lib/python3.11/dist-packages/sklearn/metrics/_classification.py:1565: UndefinedMetricWarning: Precision is ill-defined and being set to 0.0 due to no predicted samples. Use `zero_division` parameter to control this behavior.\n",
      "  _warn_prf(average, modifier, f\"{metric.capitalize()} is\", len(result))\n",
      "/usr/local/lib/python3.11/dist-packages/sklearn/metrics/_classification.py:1565: UndefinedMetricWarning: Precision is ill-defined and being set to 0.0 due to no predicted samples. Use `zero_division` parameter to control this behavior.\n",
      "  _warn_prf(average, modifier, f\"{metric.capitalize()} is\", len(result))\n",
      "/usr/local/lib/python3.11/dist-packages/sklearn/metrics/_classification.py:1565: UndefinedMetricWarning: Precision is ill-defined and being set to 0.0 due to no predicted samples. Use `zero_division` parameter to control this behavior.\n",
      "  _warn_prf(average, modifier, f\"{metric.capitalize()} is\", len(result))\n",
      "/usr/local/lib/python3.11/dist-packages/sklearn/metrics/_classification.py:1565: UndefinedMetricWarning: Precision is ill-defined and being set to 0.0 due to no predicted samples. Use `zero_division` parameter to control this behavior.\n",
      "  _warn_prf(average, modifier, f\"{metric.capitalize()} is\", len(result))\n",
      "/usr/local/lib/python3.11/dist-packages/sklearn/metrics/_classification.py:1565: UndefinedMetricWarning: Precision is ill-defined and being set to 0.0 due to no predicted samples. Use `zero_division` parameter to control this behavior.\n",
      "  _warn_prf(average, modifier, f\"{metric.capitalize()} is\", len(result))\n",
      "/usr/local/lib/python3.11/dist-packages/sklearn/metrics/_classification.py:1565: UndefinedMetricWarning: Precision is ill-defined and being set to 0.0 due to no predicted samples. Use `zero_division` parameter to control this behavior.\n",
      "  _warn_prf(average, modifier, f\"{metric.capitalize()} is\", len(result))\n",
      "/usr/local/lib/python3.11/dist-packages/sklearn/metrics/_classification.py:1565: UndefinedMetricWarning: Precision is ill-defined and being set to 0.0 due to no predicted samples. Use `zero_division` parameter to control this behavior.\n",
      "  _warn_prf(average, modifier, f\"{metric.capitalize()} is\", len(result))\n",
      "/usr/local/lib/python3.11/dist-packages/sklearn/metrics/_classification.py:1565: UndefinedMetricWarning: Precision is ill-defined and being set to 0.0 due to no predicted samples. Use `zero_division` parameter to control this behavior.\n",
      "  _warn_prf(average, modifier, f\"{metric.capitalize()} is\", len(result))\n",
      "/usr/local/lib/python3.11/dist-packages/sklearn/metrics/_classification.py:1565: UndefinedMetricWarning: Precision is ill-defined and being set to 0.0 due to no predicted samples. Use `zero_division` parameter to control this behavior.\n",
      "  _warn_prf(average, modifier, f\"{metric.capitalize()} is\", len(result))\n",
      "/usr/local/lib/python3.11/dist-packages/sklearn/metrics/_classification.py:1565: UndefinedMetricWarning: Precision is ill-defined and being set to 0.0 due to no predicted samples. Use `zero_division` parameter to control this behavior.\n",
      "  _warn_prf(average, modifier, f\"{metric.capitalize()} is\", len(result))\n",
      "/usr/local/lib/python3.11/dist-packages/sklearn/metrics/_classification.py:1565: UndefinedMetricWarning: Precision is ill-defined and being set to 0.0 due to no predicted samples. Use `zero_division` parameter to control this behavior.\n",
      "  _warn_prf(average, modifier, f\"{metric.capitalize()} is\", len(result))\n",
      "/usr/local/lib/python3.11/dist-packages/sklearn/metrics/_classification.py:1565: UndefinedMetricWarning: Precision is ill-defined and being set to 0.0 due to no predicted samples. Use `zero_division` parameter to control this behavior.\n",
      "  _warn_prf(average, modifier, f\"{metric.capitalize()} is\", len(result))\n",
      "/usr/local/lib/python3.11/dist-packages/sklearn/metrics/_classification.py:1565: UndefinedMetricWarning: Precision is ill-defined and being set to 0.0 due to no predicted samples. Use `zero_division` parameter to control this behavior.\n",
      "  _warn_prf(average, modifier, f\"{metric.capitalize()} is\", len(result))\n",
      "/usr/local/lib/python3.11/dist-packages/sklearn/metrics/_classification.py:1565: UndefinedMetricWarning: Precision is ill-defined and being set to 0.0 due to no predicted samples. Use `zero_division` parameter to control this behavior.\n",
      "  _warn_prf(average, modifier, f\"{metric.capitalize()} is\", len(result))\n",
      "/usr/local/lib/python3.11/dist-packages/sklearn/metrics/_classification.py:1565: UndefinedMetricWarning: Precision is ill-defined and being set to 0.0 due to no predicted samples. Use `zero_division` parameter to control this behavior.\n",
      "  _warn_prf(average, modifier, f\"{metric.capitalize()} is\", len(result))\n",
      "/usr/local/lib/python3.11/dist-packages/sklearn/metrics/_classification.py:1565: UndefinedMetricWarning: Precision is ill-defined and being set to 0.0 due to no predicted samples. Use `zero_division` parameter to control this behavior.\n",
      "  _warn_prf(average, modifier, f\"{metric.capitalize()} is\", len(result))\n",
      "/usr/local/lib/python3.11/dist-packages/sklearn/metrics/_classification.py:1565: UndefinedMetricWarning: Precision is ill-defined and being set to 0.0 due to no predicted samples. Use `zero_division` parameter to control this behavior.\n",
      "  _warn_prf(average, modifier, f\"{metric.capitalize()} is\", len(result))\n"
     ]
    },
    {
     "output_type": "stream",
     "name": "stdout",
     "text": [
      "Epoch 87: loss=0.4111, acc=0.9563, precision=0.0000, recall=0.0000, f1=0.0000, roc_auc=0.5000\n",
      "Epoch 88: loss=0.4094, acc=0.9563, precision=0.0000, recall=0.0000, f1=0.0000, roc_auc=0.5000\n",
      "Epoch 89: loss=0.4076, acc=0.9563, precision=0.0000, recall=0.0000, f1=0.0000, roc_auc=0.5000\n",
      "Epoch 90: loss=0.4056, acc=0.9563, precision=0.0000, recall=0.0000, f1=0.0000, roc_auc=0.5000\n",
      "Epoch 91: loss=0.4040, acc=0.9563, precision=0.0000, recall=0.0000, f1=0.0000, roc_auc=0.5000\n",
      "Epoch 92: loss=0.4022, acc=0.9563, precision=0.0000, recall=0.0000, f1=0.0000, roc_auc=0.5000\n",
      "Epoch 93: loss=0.4005, acc=0.9563, precision=0.0000, recall=0.0000, f1=0.0000, roc_auc=0.5000\n",
      "Epoch 94: loss=0.3989, acc=0.9500, precision=0.0000, recall=0.0000, f1=0.0000, roc_auc=0.5000\n",
      "Epoch 95: loss=0.3969, acc=0.9563, precision=0.0000, recall=0.0000, f1=0.0000, roc_auc=0.5000\n",
      "Epoch 96: loss=0.3953, acc=0.9625, precision=0.0000, recall=0.0000, f1=0.0000, roc_auc=0.5000\n",
      "Epoch 97: loss=0.3938, acc=0.9625, precision=0.0000, recall=0.0000, f1=0.0000, roc_auc=0.5000\n",
      "Epoch 98: loss=0.3920, acc=0.9625, precision=0.0000, recall=0.0000, f1=0.0000, roc_auc=0.5000\n",
      "Epoch 99: loss=0.3904, acc=0.9625, precision=0.0000, recall=0.0000, f1=0.0000, roc_auc=0.5000\n",
      "Epoch 100: loss=0.3892, acc=0.9625, precision=0.0000, recall=0.0000, f1=0.0000, roc_auc=0.5000\n"
     ]
    },
    {
     "output_type": "stream",
     "name": "stderr",
     "text": [
      "/usr/local/lib/python3.11/dist-packages/sklearn/metrics/_classification.py:1565: UndefinedMetricWarning: Precision is ill-defined and being set to 0.0 due to no predicted samples. Use `zero_division` parameter to control this behavior.\n",
      "  _warn_prf(average, modifier, f\"{metric.capitalize()} is\", len(result))\n",
      "/usr/local/lib/python3.11/dist-packages/sklearn/metrics/_classification.py:1565: UndefinedMetricWarning: Precision is ill-defined and being set to 0.0 due to no predicted samples. Use `zero_division` parameter to control this behavior.\n",
      "  _warn_prf(average, modifier, f\"{metric.capitalize()} is\", len(result))\n",
      "/usr/local/lib/python3.11/dist-packages/sklearn/metrics/_classification.py:1565: UndefinedMetricWarning: Precision is ill-defined and being set to 0.0 due to no predicted samples. Use `zero_division` parameter to control this behavior.\n",
      "  _warn_prf(average, modifier, f\"{metric.capitalize()} is\", len(result))\n",
      "/usr/local/lib/python3.11/dist-packages/sklearn/metrics/_classification.py:1565: UndefinedMetricWarning: Precision is ill-defined and being set to 0.0 due to no predicted samples. Use `zero_division` parameter to control this behavior.\n",
      "  _warn_prf(average, modifier, f\"{metric.capitalize()} is\", len(result))\n",
      "/usr/local/lib/python3.11/dist-packages/sklearn/metrics/_classification.py:1565: UndefinedMetricWarning: Precision is ill-defined and being set to 0.0 due to no predicted samples. Use `zero_division` parameter to control this behavior.\n",
      "  _warn_prf(average, modifier, f\"{metric.capitalize()} is\", len(result))\n",
      "/usr/local/lib/python3.11/dist-packages/sklearn/metrics/_classification.py:1565: UndefinedMetricWarning: Precision is ill-defined and being set to 0.0 due to no predicted samples. Use `zero_division` parameter to control this behavior.\n",
      "  _warn_prf(average, modifier, f\"{metric.capitalize()} is\", len(result))\n",
      "/usr/local/lib/python3.11/dist-packages/sklearn/metrics/_classification.py:1565: UndefinedMetricWarning: Precision is ill-defined and being set to 0.0 due to no predicted samples. Use `zero_division` parameter to control this behavior.\n",
      "  _warn_prf(average, modifier, f\"{metric.capitalize()} is\", len(result))\n",
      "/usr/local/lib/python3.11/dist-packages/sklearn/metrics/_classification.py:1565: UndefinedMetricWarning: Precision is ill-defined and being set to 0.0 due to no predicted samples. Use `zero_division` parameter to control this behavior.\n",
      "  _warn_prf(average, modifier, f\"{metric.capitalize()} is\", len(result))\n",
      "/usr/local/lib/python3.11/dist-packages/sklearn/metrics/_classification.py:1565: UndefinedMetricWarning: Precision is ill-defined and being set to 0.0 due to no predicted samples. Use `zero_division` parameter to control this behavior.\n",
      "  _warn_prf(average, modifier, f\"{metric.capitalize()} is\", len(result))\n",
      "/usr/local/lib/python3.11/dist-packages/sklearn/metrics/_classification.py:1565: UndefinedMetricWarning: Precision is ill-defined and being set to 0.0 due to no predicted samples. Use `zero_division` parameter to control this behavior.\n",
      "  _warn_prf(average, modifier, f\"{metric.capitalize()} is\", len(result))\n",
      "/usr/local/lib/python3.11/dist-packages/sklearn/metrics/_classification.py:1565: UndefinedMetricWarning: Precision is ill-defined and being set to 0.0 due to no predicted samples. Use `zero_division` parameter to control this behavior.\n",
      "  _warn_prf(average, modifier, f\"{metric.capitalize()} is\", len(result))\n",
      "/usr/local/lib/python3.11/dist-packages/sklearn/metrics/_classification.py:1565: UndefinedMetricWarning: Precision is ill-defined and being set to 0.0 due to no predicted samples. Use `zero_division` parameter to control this behavior.\n",
      "  _warn_prf(average, modifier, f\"{metric.capitalize()} is\", len(result))\n"
     ]
    },
    {
     "output_type": "display_data",
     "data": {
      "text/plain": [
       "<Figure size 600x500 with 2 Axes>"
      ],
      "image/png": "[encoded data removed]"
     },
     "metadata": {}
    },
    {
     "output_type": "execute_result",
     "data": {
      "text/plain": [
       "LogisticRegression(\n",
       "  (linear): Linear(in_features=2, out_features=1, bias=True)\n",
       ")"
      ]
     },
     "metadata": {},
     "execution_count": 35
    }
   ]
  },
  {
   "cell_type": "markdown",
   "source": [
    "# 2.1 Кастомный Dataset класс (15 баллов)\n",
    "# Создайте кастомный класс датасета для работы с CSV файлами:\n",
    "# - Загрузка данных из файла\n",
    "# - Предобработка (нормализация, кодирование категорий)\n",
    "# - Поддержка различных форматов данных (категориальные, числовые, бинарные и т.д.)"
   ],
   "metadata": {
    "id": "gYZgrz8LdpqS"
   }
  },
  {
   "cell_type": "markdown",
   "source": [
    "### Кастомный класс датасета (обработка разных типов данных)"
   ],
   "metadata": {
    "id": "iryXCr_V3iXd"
   }
  },
  {
   "cell_type": "code",
   "source": [
    "\n",
    "class CSVDataset(Dataset):\n",
    "    def __init__(self, csv_path, target_col, cat_cols=None, binary_cols=None):\n",
    "        \"\"\"\n",
    "        csv_path: путь к csv-файлу\n",
    "        target_col: название колонки target\n",
    "        cat_cols: список категориальных колонок\n",
    "        binary_cols: список бинарных колонок (0/1)\n",
    "        \"\"\"\n",
    "        self.data = pd.read_csv(csv_path)\n",
    "        self.target_col = target_col\n",
    "        self.cat_cols = cat_cols if cat_cols else []\n",
    "        self.binary_cols = binary_cols if binary_cols else []\n",
    "\n",
    "        # Выделяем целевую переменную\n",
    "        self.y = torch.tensor(self.data[target_col].values, dtype=torch.float32).unsqueeze(1)\n",
    "\n",
    "        # Убираем целевую колонку из данных\n",
    "        X_data = self.data.drop(columns=[target_col])\n",
    "\n",
    "        # Работа с категориальными колонками\n",
    "        if self.cat_cols:\n",
    "            cat_data = X_data[self.cat_cols]\n",
    "            encoder = OneHotEncoder(sparse=False, handle_unknown=\"ignore\")\n",
    "            cat_encoded = encoder.fit_transform(cat_data)\n",
    "            self.cat_tensor = torch.tensor(cat_encoded, dtype=torch.float32)\n",
    "        else:\n",
    "            self.cat_tensor = None\n",
    "\n",
    "        # Работа с бинарными колонками\n",
    "        if self.binary_cols:\n",
    "            bin_data = X_data[self.binary_cols].astype(float)\n",
    "            self.bin_tensor = torch.tensor(bin_data.values, dtype=torch.float32)\n",
    "        else:\n",
    "            self.bin_tensor = None\n",
    "\n",
    "        # Числовые колонки\n",
    "        num_cols = [col for col in X_data.columns if col not in self.cat_cols + self.binary_cols]\n",
    "        if num_cols:\n",
    "            num_data = X_data[num_cols]\n",
    "            scaler = StandardScaler()\n",
    "            num_scaled = scaler.fit_transform(num_data)\n",
    "            self.num_tensor = torch.tensor(num_scaled, dtype=torch.float32)\n",
    "        else:\n",
    "            self.num_tensor = None\n",
    "\n",
    "        tensors = [t for t in [self.cat_tensor, self.bin_tensor, self.num_tensor] if t is not None]\n",
    "        if not tensors:\n",
    "            raise ValueError(\"Не удалось собрать данные: ни одна из категориальных, бинарных или числовых колонок не найдена.\")\n",
    "        self.X = torch.cat(tensors, dim=1)\n",
    "\n",
    "    def __len__(self):\n",
    "        return len(self.data)\n",
    "\n",
    "    def __getitem__(self, idx):\n",
    "        return self.X[idx], self.y[idx]\n"
   ],
   "metadata": {
    "id": "aBF2OL8Wdqc9"
   },
   "execution_count": 36,
   "outputs": []
  },
  {
   "cell_type": "markdown",
   "source": [
    "# 2.2 Эксперименты с различными датасетами (15 баллов)\n",
    "\n",
    "# Найдите csv датасеты для регрессии и бинарной классификации и, применяя наработки из предыдущей части задания, обучите линейную и логистическую регрессию"
   ],
   "metadata": {
    "id": "zPq-QS66fEaw"
   }
  },
  {
   "cell_type": "markdown",
   "source": [
    "# Использую учебные датасеты load_diabetes, load_breast_cancer из sklearn для регрессии и бинарной классификации соответственно"
   ],
   "metadata": {
    "id": "1twTjstLfHAr"
   }
  },
  {
   "cell_type": "code",
   "source": [
    "from sklearn.datasets import load_diabetes, load_breast_cancer\n",
    "\n",
    "# 1. Diabetes для регрессии\n",
    "diabetes = load_diabetes()\n",
    "X_diabetes = pd.DataFrame(diabetes['data'], columns=diabetes['feature_names'])\n",
    "y_diabetes = pd.Series(diabetes['target'], name=\"target\")\n",
    "df_diabetes = pd.concat([X_diabetes, y_diabetes], axis=1)\n",
    "df_diabetes.to_csv(\"diabetes.csv\", index=False)\n",
    "\n",
    "# 2. Breast Cancer для бинарной классификации\n",
    "cancer = load_breast_cancer()\n",
    "X_cancer = pd.DataFrame(cancer['data'], columns=cancer['feature_names'])\n",
    "y_cancer = pd.Series(cancer['target'], name=\"target\")\n",
    "df_cancer = pd.concat([X_cancer, y_cancer], axis=1)\n",
    "df_cancer.to_csv(\"breast_cancer.csv\", index=False)\n"
   ],
   "metadata": {
    "id": "Y1Sc_gbVfPDx"
   },
   "execution_count": 37,
   "outputs": []
  },
  {
   "cell_type": "markdown",
   "source": [
    "### Регрессия (diebetes)"
   ],
   "metadata": {
    "id": "LAJxfao_4a-Q"
   }
  },
  {
   "cell_type": "code",
   "source": [
    "reg_dataset = CSVDataset(\"diabetes.csv\", target_col=\"target\")\n",
    "reg_loader = DataLoader(reg_dataset, batch_size=32, shuffle=True)\n",
    "\n",
    "model = nn.Linear(reg_dataset.X.shape[1], 1)\n",
    "criterion = nn.MSELoss()\n",
    "optimizer = optim.SGD(model.parameters(), lr=0.01)\n",
    "\n",
    "epochs = 100\n",
    "for epoch in range(1, epochs+1):\n",
    "    total_loss = 0\n",
    "    for X_batch, y_batch in reg_loader:\n",
    "        optimizer.zero_grad()\n",
    "        y_pred = model(X_batch)\n",
    "        loss = criterion(y_pred, y_batch)\n",
    "        loss.backward()\n",
    "        optimizer.step()\n",
    "        total_loss += loss.item()\n",
    "    avg_loss = total_loss / len(reg_loader)\n",
    "    if epoch % 10 == 0:\n",
    "        print(f\"[Diabetes] Epoch {epoch}: loss={avg_loss:.4f}\")\n",
    "\n",
    "torch.save(model.state_dict(), \"diabetes_model.pth\")\n"
   ],
   "metadata": {
    "colab": {
     "base_uri": "https://localhost:8080/"
    },
    "id": "65ezHpD5fiZ1",
    "outputId": "3de4cb98-5dd9-4503-967c-6cb2718a5a4a"
   },
   "execution_count": 40,
   "outputs": [
    {
     "output_type": "stream",
     "name": "stdout",
     "text": [
      "[Diabetes] Epoch 10: loss=3019.7631\n",
      "[Diabetes] Epoch 20: loss=2901.2206\n",
      "[Diabetes] Epoch 30: loss=2888.6868\n",
      "[Diabetes] Epoch 40: loss=2903.8845\n",
      "[Diabetes] Epoch 50: loss=2906.3699\n",
      "[Diabetes] Epoch 60: loss=2881.4439\n",
      "[Diabetes] Epoch 70: loss=2901.7529\n",
      "[Diabetes] Epoch 80: loss=2885.1980\n",
      "[Diabetes] Epoch 90: loss=2892.5126\n",
      "[Diabetes] Epoch 100: loss=2891.9354\n"
     ]
    }
   ]
  },
  {
   "cell_type": "markdown",
   "source": [
    "### Классификация(breast_cancer)"
   ],
   "metadata": {
    "id": "l-l5T1s54RA-"
   }
  },
  {
   "cell_type": "code",
   "source": [
    "clf_dataset = CSVDataset(\"breast_cancer.csv\", target_col=\"target\")\n",
    "clf_loader = DataLoader(clf_dataset, batch_size=32, shuffle=True)\n",
    "\n",
    "model = LogisticRegression(clf_dataset.X.shape[1],1)\n",
    "criterion = nn.BCEWithLogitsLoss()\n",
    "optimizer = optim.SGD(model.parameters(), lr=0.01)\n",
    "\n",
    "epochs = 100\n",
    "for epoch in range(1, epochs+1):\n",
    "    total_loss, total_acc = 0, 0\n",
    "    for X_batch, y_batch in clf_loader:\n",
    "        optimizer.zero_grad()\n",
    "        logits = model(X_batch)\n",
    "        loss = criterion(logits, y_batch)\n",
    "        loss.backward()\n",
    "        optimizer.step()\n",
    "        y_pred = torch.sigmoid(logits) > 0.5\n",
    "        acc = (y_pred == y_batch).float().mean().item()\n",
    "        total_loss += loss.item()\n",
    "        total_acc += acc\n",
    "    avg_loss = total_loss / len(clf_loader)\n",
    "    avg_acc = total_acc / len(clf_loader)\n",
    "    if epoch % 10 == 0:\n",
    "        print(f\"[BreastCancer] Epoch {epoch}: loss={avg_loss:.4f}, acc={avg_acc:.4f}\")\n",
    "\n",
    "torch.save(model.state_dict(), \"breast_cancer_model.pth\")\n",
    "\n"
   ],
   "metadata": {
    "colab": {
     "base_uri": "https://localhost:8080/"
    },
    "id": "rlVG_v0Ffxj2",
    "outputId": "3b3c1f5f-ea6d-49fa-d317-5da3317fd716"
   },
   "execution_count": 41,
   "outputs": [
    {
     "output_type": "stream",
     "name": "stdout",
     "text": [
      "[BreastCancer] Epoch 10: loss=0.2025, acc=0.9608\n",
      "[BreastCancer] Epoch 20: loss=0.1476, acc=0.9705\n",
      "[BreastCancer] Epoch 30: loss=0.1262, acc=0.9747\n",
      "[BreastCancer] Epoch 40: loss=0.1131, acc=0.9774\n",
      "[BreastCancer] Epoch 50: loss=0.1049, acc=0.9792\n",
      "[BreastCancer] Epoch 60: loss=0.1001, acc=0.9817\n",
      "[BreastCancer] Epoch 70: loss=0.0948, acc=0.9826\n",
      "[BreastCancer] Epoch 80: loss=0.0913, acc=0.9826\n",
      "[BreastCancer] Epoch 90: loss=0.0878, acc=0.9826\n",
      "[BreastCancer] Epoch 100: loss=0.0857, acc=0.9844\n"
     ]
    }
   ]
  },
  {
   "cell_type": "markdown",
   "source": [
    "3.1 Исследование гиперпараметров (10 баллов)\n",
    "# Проведите эксперименты с различными:\n",
    "# - Скоростями обучения (learning rate)\n",
    "# - Размерами батчей\n",
    "# - Оптимизаторами (SGD, Adam, RMSprop)\n",
    "# Визуализируйте результаты в виде графиков или таблиц\n",
    "3.2 Feature Engineering (10 баллов)\n",
    "# Создайте новые признаки для улучшения модели:\n",
    "# - Полиномиальные признаки\n",
    "# - Взаимодействия между признаками\n",
    "# - Статистические признаки (среднее, дисперсия)\n",
    "# Сравните качество с базовой моделью"
   ],
   "metadata": {
    "id": "BrMorPss4w1E"
   }
  },
  {
   "cell_type": "code",
   "source": [
    "def train_and_evaluate_simple(model_class, input_dim, train_loader, val_loader, criterion, optimizer_class, lr, epochs, device):\n",
    "    model = model_class(input_dim, 1).to(device)\n",
    "    optimizer = optimizer_class(model.parameters(), lr=lr)\n",
    "\n",
    "    for epoch in range(1, epochs + 1):\n",
    "        model.train()\n",
    "        for X_batch, y_batch in train_loader:\n",
    "            X_batch, y_batch = X_batch.to(device), y_batch.to(device)\n",
    "            optimizer.zero_grad()\n",
    "            logits = model(X_batch)\n",
    "            loss = criterion(logits, y_batch)\n",
    "            loss.backward()\n",
    "            optimizer.step()\n",
    "\n",
    "    model.eval()\n",
    "    total_val_loss, total_val_acc = 0, 0\n",
    "    with torch.no_grad():\n",
    "        for X_batch, y_batch in val_loader:\n",
    "            X_batch, y_batch = X_batch.to(device), y_batch.to(device)\n",
    "            logits = model(X_batch)\n",
    "            loss = criterion(logits, y_batch)\n",
    "\n",
    "            y_pred = (torch.sigmoid(logits) > 0.5).float()\n",
    "            acc = (y_pred == y_batch).float().mean().item()\n",
    "\n",
    "            total_val_loss += loss.item()\n",
    "            total_val_acc += acc\n",
    "\n",
    "    avg_val_loss = total_val_loss / len(val_loader)\n",
    "    avg_val_acc = total_val_acc / len(val_loader)\n",
    "\n",
    "    return avg_val_acc, avg_val_loss, model\n",
    "\n",
    "device = torch.device(\"cuda\" if torch.cuda.is_available() else \"cpu\")\n",
    "\n",
    "epochs = 100\n",
    "criterion = nn.BCEWithLogitsLoss()\n",
    "\n",
    "print(\"--- Запуск экспериментов с гиперпараметрами и оптимизаторами ---\")\n",
    "# Эксперименты с гиперпараметрами\n",
    "experiments = [\n",
    "    {\"lr\": 0.1, \"batch_size\": 32, \"optimizer\": \"SGD\"},\n",
    "    {\"lr\": 0.01, \"batch_size\": 64, \"optimizer\": \"Adam\"},\n",
    "    {\"lr\": 0.001, \"batch_size\": 16, \"optimizer\": \"RMSprop\"},\n",
    "    {\"lr\": 0.05, \"batch_size\": 32, \"optimizer\": \"Adam\"},\n",
    "]\n",
    "\n",
    "optimizer_map = {\n",
    "    \"SGD\": optim.SGD,\n",
    "    \"Adam\": optim.Adam,\n",
    "    \"RMSprop\": optim.RMSprop\n",
    "}\n",
    "\n",
    "results = []\n",
    "best_val_acc_so_far = -1\n",
    "best_params_for_baseline = {}\n",
    "best_model_for_baseline = None\n",
    "\n",
    "base_clf_dataset = CSVDataset(\"breast_cancer.csv\", target_col=\"target\")\n",
    "\n",
    "X_base_train, X_base_val, y_base_train, y_base_val = train_test_split(\n",
    "    base_clf_dataset.X, base_clf_dataset.y, test_size=0.2, random_state=42, stratify=base_clf_dataset.y\n",
    ")\n",
    "train_dataset_base = torch.utils.data.TensorDataset(X_base_train, y_base_train)\n",
    "val_dataset_base = torch.utils.data.TensorDataset(X_base_val, y_base_val)\n",
    "\n",
    "input_dim_base = X_base_train.shape[1]\n",
    "\n",
    "for exp_num, params in enumerate(experiments):\n",
    "    lr = params[\"lr\"]\n",
    "    bs = params[\"batch_size\"]\n",
    "    opt_name = params[\"optimizer\"]\n",
    "    opt_class = optimizer_map[opt_name]\n",
    "\n",
    "    train_loader = DataLoader(train_dataset_base, batch_size=bs, shuffle=True)\n",
    "    val_loader = DataLoader(val_dataset_base, batch_size=bs, shuffle=False)\n",
    "\n",
    "    print(f\"Эксперимент {exp_num + 1}: LR={lr}, BS={bs}, Оптимизатор={opt_name}\")\n",
    "    val_acc, val_loss, current_model = train_and_evaluate_simple(\n",
    "        LogisticRegression, input_dim_base, train_loader, val_loader,\n",
    "        criterion, opt_class, lr, epochs, device\n",
    "    )\n",
    "    results.append({\n",
    "        \"Config\": f\"LR={lr}, BS={bs}, Opt={opt_name}\",\n",
    "        \"Validation Accuracy\": f\"{val_acc:.4f}\",\n",
    "        \"Validation Loss\": f\"{val_loss:.4f}\"\n",
    "    })\n",
    "\n",
    "    if val_acc > best_val_acc_so_far:\n",
    "        best_val_acc_so_far = val_acc\n",
    "        best_params_for_baseline = params\n",
    "        best_model_for_baseline = current_model\n",
    "\n",
    "print(\"\\n--- Сводка результатов экспериментов с гиперпараметрами ---\")\n",
    "for r in results:\n",
    "    print(f\"{r['Config']} -> Точность: {r['Validation Accuracy']}, Потери: {r['Validation Loss']}\")\n",
    "\n",
    "print(f\"\\nЛучшая базовая конфигурация: {best_params_for_baseline}\")\n",
    "print(f\"Лучшая базовая точность валидации: {best_val_acc_so_far:.4f}\")\n",
    "\n",
    "if best_model_for_baseline:\n",
    "        torch.save(best_model_for_baseline.state_dict(), \"breast_cancer_model.pth\")\n",
    "        print(\"Лучшая базовая модель сохранена в breast_cancer_model.pth\")\n",
    "\n",
    "print(\"\\n--- Запуск экспериментов по инженерии признаков: Полиномиальные признаки ---\")\n",
    "\n",
    "fe_lr = best_params_for_baseline['lr']\n",
    "fe_bs = best_params_for_baseline['batch_size']\n",
    "fe_opt_class = optimizer_map[best_params_for_baseline['optimizer']]\n",
    "\n",
    "X_all_scaled = torch.cat((X_base_train, X_base_val), dim=0)\n",
    "y_all = torch.cat((y_base_train, y_base_val), dim=0)\n",
    "\n",
    "poly = PolynomialFeatures(degree=2, include_bias=False)\n",
    "X_poly_np = poly.fit_transform(X_all_scaled.cpu().numpy())\n",
    "\n",
    "X_poly_tensor = torch.tensor(X_poly_np, dtype=torch.float32)\n",
    "\n",
    "X_train_poly, X_val_poly, y_train_poly, y_val_poly = train_test_split(\n",
    "    X_poly_tensor, y_all, test_size=0.2, random_state=42, stratify=y_all\n",
    ")\n",
    "\n",
    "train_dataset_poly = torch.utils.data.TensorDataset(X_train_poly, y_train_poly)\n",
    "val_dataset_poly = torch.utils.data.TensorDataset(X_val_poly, y_val_poly)\n",
    "\n",
    "input_dim_poly = X_train_poly.shape[1]\n",
    "train_loader_poly = DataLoader(train_dataset_poly, batch_size=fe_bs, shuffle=True)\n",
    "val_loader_poly = DataLoader(val_dataset_poly, batch_size=fe_bs, shuffle=False)\n",
    "\n",
    "print(\"\\nОбучение модели с полиномиальными признаками (степень=2) с использованием лучших гиперпараметров...\")\n",
    "poly_val_acc, poly_val_loss, poly_model_trained = train_and_evaluate_simple(\n",
    "    LogisticRegression, input_dim_poly, train_loader_poly, val_loader_poly,\n",
    "    criterion, fe_opt_class, fe_lr, epochs, device\n",
    ")\n",
    "\n",
    "print(\"\\n--- Сравнение инженерии признаков ---\")\n",
    "print(f\"Базовая модель (лучшая конфигурация): Точность валидации = {best_val_acc_so_far:.8f}\")\n",
    "print(f\"Модель с полиномиальными признаками: Точность валидации = {poly_val_acc:.8f}\")\n",
    "\n",
    "print(\"\\n--- Вывод ---\")\n",
    "if poly_val_acc > best_val_acc_so_far:\n",
    "    print(\"Полиномиальные признаки улучшили производительность модели!\")\n",
    "    torch.save(poly_model_trained.state_dict(), \"breast_cancer_model_poly_fe.pth\")\n",
    "    print(\"Модель с полиномиальными признаками сохранена в breast_cancer_model_poly_fe.pth\")\n",
    "else:\n",
    "    print(\"Полиномиальные признаки не улучшили производительность модели.\")"
   ],
   "metadata": {
    "colab": {
     "base_uri": "https://localhost:8080/"
    },
    "id": "npCaKmM_9igg",
    "outputId": "aebfa910-8fd8-44bd-9b6d-2ff97d606be0"
   },
   "execution_count": 52,
   "outputs": [
    {
     "output_type": "stream",
     "name": "stdout",
     "text": [
      "--- Запуск экспериментов с гиперпараметрами и оптимизаторами ---\n",
      "Эксперимент 1: LR=0.1, BS=32, Оптимизатор=SGD\n",
      "Эксперимент 2: LR=0.01, BS=64, Оптимизатор=Adam\n",
      "Эксперимент 3: LR=0.001, BS=16, Оптимизатор=RMSprop\n",
      "Эксперимент 4: LR=0.05, BS=32, Оптимизатор=Adam\n",
      "\n",
      "--- Сводка результатов экспериментов с гиперпараметрами ---\n",
      "LR=0.1, BS=32, Opt=SGD -> Точность: 0.9688, Потери: 0.0737\n",
      "LR=0.01, BS=64, Opt=Adam -> Точность: 0.9587, Потери: 0.0759\n",
      "LR=0.001, BS=16, Opt=RMSprop -> Точность: 0.9766, Потери: 0.0765\n",
      "LR=0.05, BS=32, Opt=Adam -> Точность: 0.9844, Потери: 0.0675\n",
      "\n",
      "Лучшая базовая конфигурация: {'lr': 0.05, 'batch_size': 32, 'optimizer': 'Adam'}\n",
      "Лучшая базовая точность валидации: 0.9844\n",
      "Лучшая базовая модель сохранена в breast_cancer_model.pth\n",
      "\n",
      "--- Запуск экспериментов по инженерии признаков: Полиномиальные признаки ---\n",
      "\n",
      "Обучение модели с полиномиальными признаками (степень=2) с использованием лучших гиперпараметров...\n",
      "\n",
      "--- Сравнение инженерии признаков ---\n",
      "Базовая модель (лучшая конфигурация): Точность валидации = 0.98437500\n",
      "Модель с полиномиальными признаками: Точность валидации = 0.98437500\n",
      "\n",
      "--- Вывод ---\n",
      "Полиномиальные признаки не улучшили производительность модели.\n"
     ]
    }
   ]
  },
  {
   "cell_type": "markdown",
   "source": [
    "### Полиномиальные признаки не улучшили модель. Возможно предел точности уже достигнут. Или полиномиальные признаки привели к переобучению"
   ],
   "metadata": {
    "id": "gBoJUgLLCdl_"
   }
  }
 ]
}
