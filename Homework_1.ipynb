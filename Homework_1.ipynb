{
  "cells": [
    {
      "cell_type": "markdown",
      "metadata": {
        "id": "c5e7f6f858255c52"
      },
      "source": [
        "# Домашнее задание к уроку 1: Основы PyTorch"
      ],
      "id": "c5e7f6f858255c52"
    },
    {
      "metadata": {
        "id": "18cf2e26ad63ccba"
      },
      "cell_type": "markdown",
      "source": [
        "\n",
        "## Цель задания\n",
        "\n",
        "Закрепить навыки работы с тензорами PyTorch, изучить основные операции и\n",
        "научиться решать практические задачи.\n",
        "\n",
        "## Задание 1: Создание и манипуляции с тензорами (25 баллов)\n",
        "\n",
        "Создайте файл `homework_tensors.py` и выполните следующие задачи:\n",
        "\n",
        "### 1.1 Создание тензоров (7 баллов)\n",
        "\n"
      ],
      "id": "18cf2e26ad63ccba"
    },
    {
      "metadata": {
        "ExecuteTime": {
          "end_time": "2025-06-30T15:14:07.153471Z",
          "start_time": "2025-06-30T15:14:06.443832Z"
        },
        "colab": {
          "base_uri": "https://localhost:8080/"
        },
        "id": "75239e7700dfd921",
        "outputId": "2385850d-a54f-48cf-f19a-207c578eb8d8"
      },
      "cell_type": "code",
      "source": [
        "import torch\n",
        "# Создайте следующие тензоры:\n",
        "# - Тензор размером 3x4, заполненный случайными числами от 0 до 1\n",
        "tensor1 = torch.rand(3, 4)\n",
        "tensor1"
      ],
      "id": "75239e7700dfd921",
      "outputs": [
        {
          "output_type": "execute_result",
          "data": {
            "text/plain": [
              "tensor([[0.6483, 0.0419, 0.1381, 0.4846],\n",
              "        [0.3143, 0.4741, 0.8576, 0.1060],\n",
              "        [0.0164, 0.2802, 0.4294, 0.5541]])"
            ]
          },
          "metadata": {},
          "execution_count": 3
        }
      ],
      "execution_count": 3
    },
    {
      "metadata": {
        "ExecuteTime": {
          "end_time": "2025-06-30T15:13:40.755181Z",
          "start_time": "2025-06-30T15:13:40.703774Z"
        },
        "colab": {
          "base_uri": "https://localhost:8080/"
        },
        "id": "2023b9a30c756afd",
        "outputId": "5bf6a8c7-ee6a-4f1b-84a8-9f795154ad04"
      },
      "cell_type": "code",
      "source": [
        "# - Тензор размером 2x3x4, заполненный нулями\n",
        "tensor2 = torch.zeros(2, 3, 4)\n",
        "tensor2"
      ],
      "id": "2023b9a30c756afd",
      "outputs": [
        {
          "output_type": "execute_result",
          "data": {
            "text/plain": [
              "tensor([[[0., 0., 0., 0.],\n",
              "         [0., 0., 0., 0.],\n",
              "         [0., 0., 0., 0.]],\n",
              "\n",
              "        [[0., 0., 0., 0.],\n",
              "         [0., 0., 0., 0.],\n",
              "         [0., 0., 0., 0.]]])"
            ]
          },
          "metadata": {},
          "execution_count": 4
        }
      ],
      "execution_count": 4
    },
    {
      "metadata": {
        "ExecuteTime": {
          "end_time": "2025-06-30T15:36:35.971573Z",
          "start_time": "2025-06-30T15:36:35.909550Z"
        },
        "colab": {
          "base_uri": "https://localhost:8080/"
        },
        "id": "22ccc9e0f4aaf228",
        "outputId": "5b3a6d02-db00-436e-a177-119253412d87"
      },
      "cell_type": "code",
      "source": [
        "# - Тензор размером 5x5, заполненный единицами\n",
        "tensor3 = torch.ones(5, 5)\n",
        "tensor3"
      ],
      "id": "22ccc9e0f4aaf228",
      "outputs": [
        {
          "output_type": "execute_result",
          "data": {
            "text/plain": [
              "tensor([[1., 1., 1., 1., 1.],\n",
              "        [1., 1., 1., 1., 1.],\n",
              "        [1., 1., 1., 1., 1.],\n",
              "        [1., 1., 1., 1., 1.],\n",
              "        [1., 1., 1., 1., 1.]])"
            ]
          },
          "metadata": {},
          "execution_count": 5
        }
      ],
      "execution_count": 5
    },
    {
      "metadata": {
        "ExecuteTime": {
          "end_time": "2025-06-30T15:36:45.295994Z",
          "start_time": "2025-06-30T15:36:45.260059Z"
        },
        "colab": {
          "base_uri": "https://localhost:8080/"
        },
        "id": "bb312d1bd3d79e48",
        "outputId": "ac0b48fe-708b-4a00-c2c9-2bc94b7a4d65"
      },
      "cell_type": "code",
      "source": [
        "# - Тензор размером 4x4 с числами от 0 до 15 (используйте reshape)\n",
        "tensor4 = torch.arange(16).reshape(4, 4)\n",
        "tensor4"
      ],
      "id": "bb312d1bd3d79e48",
      "outputs": [
        {
          "output_type": "execute_result",
          "data": {
            "text/plain": [
              "tensor([[ 0,  1,  2,  3],\n",
              "        [ 4,  5,  6,  7],\n",
              "        [ 8,  9, 10, 11],\n",
              "        [12, 13, 14, 15]])"
            ]
          },
          "metadata": {},
          "execution_count": 6
        }
      ],
      "execution_count": 6
    },
    {
      "metadata": {
        "id": "cb29312681b87eec"
      },
      "cell_type": "markdown",
      "source": [
        "\n",
        "### 1.2 Операции с тензорами (6 баллов)\n"
      ],
      "id": "cb29312681b87eec"
    },
    {
      "metadata": {
        "ExecuteTime": {
          "end_time": "2025-06-30T15:45:01.133162Z",
          "start_time": "2025-06-30T15:45:01.121332Z"
        },
        "colab": {
          "base_uri": "https://localhost:8080/"
        },
        "id": "21cb33b7ca6d58fa",
        "outputId": "d10eb9c8-461d-499b-d7b5-0fa5772ff6ac"
      },
      "cell_type": "code",
      "source": [
        "# Дано: тензор A размером 3x4 и тензор B размером 4x3\n",
        "A = torch.rand(3, 4)\n",
        "B = torch.rand(4, 3)\n",
        "print(A,B,sep='\\n')\n"
      ],
      "id": "21cb33b7ca6d58fa",
      "outputs": [
        {
          "output_type": "stream",
          "name": "stdout",
          "text": [
            "tensor([[0.3538, 0.1728, 0.1918, 0.5809],\n",
            "        [0.8407, 0.7618, 0.1958, 0.0687],\n",
            "        [0.3222, 0.3745, 0.5559, 0.7644]])\n",
            "tensor([[0.6575, 0.3921, 0.8896],\n",
            "        [0.8264, 0.1860, 0.8253],\n",
            "        [0.7550, 0.9768, 0.5453],\n",
            "        [0.4480, 0.2685, 0.5047]])\n"
          ]
        }
      ],
      "execution_count": 7
    },
    {
      "metadata": {
        "ExecuteTime": {
          "end_time": "2025-06-30T15:42:59.879698Z",
          "start_time": "2025-06-30T15:42:59.828269Z"
        },
        "colab": {
          "base_uri": "https://localhost:8080/"
        },
        "id": "17f1c12e6522ad0a",
        "outputId": "d8a0acd3-0822-4fa1-bb68-105289891dd5"
      },
      "cell_type": "code",
      "source": [
        "# Выполните:\n",
        "# - Транспонирование тензора A\n",
        "A_transposed = A.T\n",
        "A_transposed"
      ],
      "id": "17f1c12e6522ad0a",
      "outputs": [
        {
          "output_type": "execute_result",
          "data": {
            "text/plain": [
              "tensor([[0.3538, 0.8407, 0.3222],\n",
              "        [0.1728, 0.7618, 0.3745],\n",
              "        [0.1918, 0.1958, 0.5559],\n",
              "        [0.5809, 0.0687, 0.7644]])"
            ]
          },
          "metadata": {},
          "execution_count": 8
        }
      ],
      "execution_count": 8
    },
    {
      "metadata": {
        "ExecuteTime": {
          "end_time": "2025-06-30T15:44:08.191483Z",
          "start_time": "2025-06-30T15:44:08.142598Z"
        },
        "colab": {
          "base_uri": "https://localhost:8080/"
        },
        "id": "21a5c087be9d4fb3",
        "outputId": "2f2be058-3f58-4045-f13b-769f34c57747"
      },
      "cell_type": "code",
      "source": [
        "# - Матричное умножение A и B\n",
        "A_matmul_B = A @ B\n",
        "A_matmul_B"
      ],
      "id": "21a5c087be9d4fb3",
      "outputs": [
        {
          "output_type": "execute_result",
          "data": {
            "text/plain": [
              "tensor([[0.7805, 0.5142, 0.8551],\n",
              "        [1.3610, 0.6811, 1.5181],\n",
              "        [1.2835, 0.9442, 1.2846]])"
            ]
          },
          "metadata": {},
          "execution_count": 9
        }
      ],
      "execution_count": 9
    },
    {
      "metadata": {
        "ExecuteTime": {
          "end_time": "2025-06-30T15:46:58.805587Z",
          "start_time": "2025-06-30T15:46:58.792307Z"
        },
        "colab": {
          "base_uri": "https://localhost:8080/"
        },
        "id": "703efc07e370bfb1",
        "outputId": "c56b1b79-c11b-4b47-ebf5-a96fcca83d80"
      },
      "cell_type": "code",
      "source": [
        "# - Поэлементное умножение A и транспонированного B\n",
        "elements_mult = A * B.T\n",
        "elements_mult"
      ],
      "id": "703efc07e370bfb1",
      "outputs": [
        {
          "output_type": "execute_result",
          "data": {
            "text/plain": [
              "tensor([[0.2326, 0.1428, 0.1448, 0.2603],\n",
              "        [0.3297, 0.1417, 0.1912, 0.0184],\n",
              "        [0.2866, 0.3091, 0.3031, 0.3858]])"
            ]
          },
          "metadata": {},
          "execution_count": 10
        }
      ],
      "execution_count": 10
    },
    {
      "metadata": {
        "ExecuteTime": {
          "end_time": "2025-06-30T15:47:15.830579Z",
          "start_time": "2025-06-30T15:47:15.812093Z"
        },
        "colab": {
          "base_uri": "https://localhost:8080/"
        },
        "id": "51e02643f6468619",
        "outputId": "ae588f68-bb98-469e-d3fc-d4513d3219d9"
      },
      "cell_type": "code",
      "source": [
        "# - Вычислите сумму всех элементов тензора A\n",
        "sum_A = torch.sum(A)\n",
        "sum_A"
      ],
      "id": "51e02643f6468619",
      "outputs": [
        {
          "output_type": "execute_result",
          "data": {
            "text/plain": [
              "tensor(5.1833)"
            ]
          },
          "metadata": {},
          "execution_count": 11
        }
      ],
      "execution_count": 11
    },
    {
      "metadata": {
        "id": "fe347deff46983d"
      },
      "cell_type": "markdown",
      "source": [
        "\n",
        "### 1.3 Индексация и срезы (6 баллов)\n"
      ],
      "id": "fe347deff46983d"
    },
    {
      "metadata": {
        "ExecuteTime": {
          "end_time": "2025-06-30T15:49:05.796180Z",
          "start_time": "2025-06-30T15:49:05.763257Z"
        },
        "colab": {
          "base_uri": "https://localhost:8080/"
        },
        "id": "b3c9fe5fa439fd44",
        "outputId": "2e710ff7-a426-4335-bcef-3ef4f6900740"
      },
      "cell_type": "code",
      "source": [
        "# Создайте тензор размером 5x5x5\n",
        "tensor5 = torch.rand(5,5,5)\n",
        "tensor5"
      ],
      "id": "b3c9fe5fa439fd44",
      "outputs": [
        {
          "output_type": "execute_result",
          "data": {
            "text/plain": [
              "tensor([[[0.2589, 0.7041, 0.1545, 0.5488, 0.0616],\n",
              "         [0.1452, 0.2080, 0.4992, 0.3724, 0.7027],\n",
              "         [0.3027, 0.0044, 0.7243, 0.2714, 0.2760],\n",
              "         [0.6942, 0.1006, 0.0656, 0.4901, 0.8155],\n",
              "         [0.3874, 0.6409, 0.7620, 0.9448, 0.6151]],\n",
              "\n",
              "        [[0.6466, 0.0025, 0.2674, 0.6979, 0.6569],\n",
              "         [0.3767, 0.0866, 0.1923, 0.3814, 0.3939],\n",
              "         [0.5314, 0.0658, 0.5891, 0.1930, 0.0870],\n",
              "         [0.4728, 0.9274, 0.5472, 0.4253, 0.3097],\n",
              "         [0.2905, 0.2974, 0.3305, 0.0554, 0.4591]],\n",
              "\n",
              "        [[0.5621, 0.7826, 0.2674, 0.4707, 0.0391],\n",
              "         [0.8120, 0.7812, 0.0037, 0.3432, 0.1022],\n",
              "         [0.3419, 0.6540, 0.6632, 0.3700, 0.7478],\n",
              "         [0.1073, 0.1235, 0.3159, 0.1390, 0.3689],\n",
              "         [0.2139, 0.0878, 0.4601, 0.7415, 0.3915]],\n",
              "\n",
              "        [[0.4570, 0.6192, 0.7280, 0.6863, 0.5941],\n",
              "         [0.1190, 0.6416, 0.4611, 0.8967, 0.7575],\n",
              "         [0.0493, 0.2308, 0.2171, 0.4998, 0.6841],\n",
              "         [0.2940, 0.4543, 0.7227, 0.0375, 0.7611],\n",
              "         [0.0613, 0.8315, 0.8770, 0.0299, 0.3322]],\n",
              "\n",
              "        [[0.9210, 0.7485, 0.0447, 0.2747, 0.9035],\n",
              "         [0.7349, 0.2835, 0.8459, 0.1541, 0.1023],\n",
              "         [0.2701, 0.6602, 0.1962, 0.7874, 0.1820],\n",
              "         [0.1554, 0.9205, 0.4846, 0.6340, 0.9477],\n",
              "         [0.9063, 0.3902, 0.9132, 0.1056, 0.7710]]])"
            ]
          },
          "metadata": {},
          "execution_count": 12
        }
      ],
      "execution_count": 12
    },
    {
      "metadata": {
        "ExecuteTime": {
          "end_time": "2025-06-30T15:49:57.159585Z",
          "start_time": "2025-06-30T15:49:57.140995Z"
        },
        "colab": {
          "base_uri": "https://localhost:8080/"
        },
        "id": "242d79ffde1280f5",
        "outputId": "18c40b8f-2fe4-4016-c631-5752afb97a49"
      },
      "cell_type": "code",
      "source": [
        "# Извлеките:\n",
        "# - Первую строку\n",
        "first_row = tensor5[0, 0, :]\n",
        "first_row"
      ],
      "id": "242d79ffde1280f5",
      "outputs": [
        {
          "output_type": "execute_result",
          "data": {
            "text/plain": [
              "tensor([0.2589, 0.7041, 0.1545, 0.5488, 0.0616])"
            ]
          },
          "metadata": {},
          "execution_count": 13
        }
      ],
      "execution_count": 13
    },
    {
      "metadata": {
        "ExecuteTime": {
          "end_time": "2025-06-30T15:52:47.487660Z",
          "start_time": "2025-06-30T15:52:47.464437Z"
        },
        "colab": {
          "base_uri": "https://localhost:8080/"
        },
        "id": "12dbd8a53e05321f",
        "outputId": "902044ce-3163-4aef-9407-fd9146ddccf6"
      },
      "cell_type": "code",
      "source": [
        "# - Последний столбец\n",
        "last_col = tensor5[:, :, -1]\n",
        "last_col"
      ],
      "id": "12dbd8a53e05321f",
      "outputs": [
        {
          "output_type": "execute_result",
          "data": {
            "text/plain": [
              "tensor([[0.0616, 0.7027, 0.2760, 0.8155, 0.6151],\n",
              "        [0.6569, 0.3939, 0.0870, 0.3097, 0.4591],\n",
              "        [0.0391, 0.1022, 0.7478, 0.3689, 0.3915],\n",
              "        [0.5941, 0.7575, 0.6841, 0.7611, 0.3322],\n",
              "        [0.9035, 0.1023, 0.1820, 0.9477, 0.7710]])"
            ]
          },
          "metadata": {},
          "execution_count": 14
        }
      ],
      "execution_count": 14
    },
    {
      "metadata": {
        "ExecuteTime": {
          "end_time": "2025-06-30T15:55:58.092158Z",
          "start_time": "2025-06-30T15:55:58.076188Z"
        },
        "colab": {
          "base_uri": "https://localhost:8080/"
        },
        "id": "6977252a2d8c8e68",
        "outputId": "45795b55-6985-4ffa-dd70-cf585bb29d1d"
      },
      "cell_type": "code",
      "source": [
        "# - Подматрицу размером 2x2 из центра тензора\n",
        "center_2x2 = tensor5[2:4, 2:4, 2:4]\n",
        "center_2x2"
      ],
      "id": "6977252a2d8c8e68",
      "outputs": [
        {
          "output_type": "execute_result",
          "data": {
            "text/plain": [
              "tensor([[[0.6632, 0.3700],\n",
              "         [0.3159, 0.1390]],\n",
              "\n",
              "        [[0.2171, 0.4998],\n",
              "         [0.7227, 0.0375]]])"
            ]
          },
          "metadata": {},
          "execution_count": 15
        }
      ],
      "execution_count": 15
    },
    {
      "metadata": {
        "ExecuteTime": {
          "end_time": "2025-06-30T15:56:42.893337Z",
          "start_time": "2025-06-30T15:56:42.877848Z"
        },
        "colab": {
          "base_uri": "https://localhost:8080/"
        },
        "id": "40a48fab3edb945b",
        "outputId": "b2bdb8b9-b945-4c69-aaa9-d8bb6ea688ff"
      },
      "cell_type": "code",
      "source": [
        "# - Все элементы с четными индексами\n",
        "even_idx = tensor5[::2, ::2, ::2]\n",
        "even_idx"
      ],
      "id": "40a48fab3edb945b",
      "outputs": [
        {
          "output_type": "execute_result",
          "data": {
            "text/plain": [
              "tensor([[[0.2589, 0.1545, 0.0616],\n",
              "         [0.3027, 0.7243, 0.2760],\n",
              "         [0.3874, 0.7620, 0.6151]],\n",
              "\n",
              "        [[0.5621, 0.2674, 0.0391],\n",
              "         [0.3419, 0.6632, 0.7478],\n",
              "         [0.2139, 0.4601, 0.3915]],\n",
              "\n",
              "        [[0.9210, 0.0447, 0.9035],\n",
              "         [0.2701, 0.1962, 0.1820],\n",
              "         [0.9063, 0.9132, 0.7710]]])"
            ]
          },
          "metadata": {},
          "execution_count": 16
        }
      ],
      "execution_count": 16
    },
    {
      "metadata": {
        "id": "34a3c969f770dcaf"
      },
      "cell_type": "markdown",
      "source": [
        "\n",
        "### 1.4 Работа с формами (6 баллов)\n"
      ],
      "id": "34a3c969f770dcaf"
    },
    {
      "metadata": {
        "ExecuteTime": {
          "end_time": "2025-06-30T15:59:34.224183Z",
          "start_time": "2025-06-30T15:59:34.208024Z"
        },
        "colab": {
          "base_uri": "https://localhost:8080/"
        },
        "id": "652583e08d0870f3",
        "outputId": "29d0332a-5e8c-4a6d-bde3-c4dc47cc85d6"
      },
      "cell_type": "code",
      "source": [
        "# Создайте тензор размером 24 элемента\n",
        "tensor6 = torch.rand(24)\n",
        "tensor6"
      ],
      "id": "652583e08d0870f3",
      "outputs": [
        {
          "output_type": "execute_result",
          "data": {
            "text/plain": [
              "tensor([0.3455, 0.2708, 0.2131, 0.0037, 0.3055, 0.4520, 0.3894, 0.5443, 0.4869,\n",
              "        0.1730, 0.5290, 0.4646, 0.0980, 0.2567, 0.2781, 0.7244, 0.1494, 0.9510,\n",
              "        0.9958, 0.3514, 0.7480, 0.5923, 0.0516, 0.4512])"
            ]
          },
          "metadata": {},
          "execution_count": 17
        }
      ],
      "execution_count": 17
    },
    {
      "metadata": {
        "ExecuteTime": {
          "end_time": "2025-06-30T16:00:36.647664Z",
          "start_time": "2025-06-30T16:00:36.630629Z"
        },
        "colab": {
          "base_uri": "https://localhost:8080/"
        },
        "id": "d16bc21328a51786",
        "outputId": "174af03d-2f3b-4fc1-ce37-04757329fb2e"
      },
      "cell_type": "code",
      "source": [
        "# Преобразуйте его в формы:\n",
        "# - 2x12\n",
        "shape_2x12 = tensor6.view(2, 12)\n",
        "shape_2x12"
      ],
      "id": "d16bc21328a51786",
      "outputs": [
        {
          "output_type": "execute_result",
          "data": {
            "text/plain": [
              "tensor([[0.3455, 0.2708, 0.2131, 0.0037, 0.3055, 0.4520, 0.3894, 0.5443, 0.4869,\n",
              "         0.1730, 0.5290, 0.4646],\n",
              "        [0.0980, 0.2567, 0.2781, 0.7244, 0.1494, 0.9510, 0.9958, 0.3514, 0.7480,\n",
              "         0.5923, 0.0516, 0.4512]])"
            ]
          },
          "metadata": {},
          "execution_count": 18
        }
      ],
      "execution_count": 18
    },
    {
      "metadata": {
        "ExecuteTime": {
          "end_time": "2025-06-30T16:00:44.075451Z",
          "start_time": "2025-06-30T16:00:44.065002Z"
        },
        "colab": {
          "base_uri": "https://localhost:8080/"
        },
        "id": "700e36b9bfa5e0fd",
        "outputId": "dacf9305-c611-4ea8-a32b-51384e1dd555"
      },
      "cell_type": "code",
      "source": [
        "# - 3x8\n",
        "shape_3x8 = tensor6.view(3, 8)\n",
        "shape_3x8"
      ],
      "id": "700e36b9bfa5e0fd",
      "outputs": [
        {
          "output_type": "execute_result",
          "data": {
            "text/plain": [
              "tensor([[0.3455, 0.2708, 0.2131, 0.0037, 0.3055, 0.4520, 0.3894, 0.5443],\n",
              "        [0.4869, 0.1730, 0.5290, 0.4646, 0.0980, 0.2567, 0.2781, 0.7244],\n",
              "        [0.1494, 0.9510, 0.9958, 0.3514, 0.7480, 0.5923, 0.0516, 0.4512]])"
            ]
          },
          "metadata": {},
          "execution_count": 19
        }
      ],
      "execution_count": 19
    },
    {
      "metadata": {
        "ExecuteTime": {
          "end_time": "2025-06-30T16:00:48.650069Z",
          "start_time": "2025-06-30T16:00:48.616504Z"
        },
        "colab": {
          "base_uri": "https://localhost:8080/"
        },
        "id": "2906e5f9d3cbb48c",
        "outputId": "6d013865-74fb-454f-ffb3-5136179f65dc"
      },
      "cell_type": "code",
      "source": [
        "# - 4x6\n",
        "shape_4x6 = tensor6.view(4, 6)\n",
        "shape_4x6"
      ],
      "id": "2906e5f9d3cbb48c",
      "outputs": [
        {
          "output_type": "execute_result",
          "data": {
            "text/plain": [
              "tensor([[0.3455, 0.2708, 0.2131, 0.0037, 0.3055, 0.4520],\n",
              "        [0.3894, 0.5443, 0.4869, 0.1730, 0.5290, 0.4646],\n",
              "        [0.0980, 0.2567, 0.2781, 0.7244, 0.1494, 0.9510],\n",
              "        [0.9958, 0.3514, 0.7480, 0.5923, 0.0516, 0.4512]])"
            ]
          },
          "metadata": {},
          "execution_count": 20
        }
      ],
      "execution_count": 20
    },
    {
      "metadata": {
        "ExecuteTime": {
          "end_time": "2025-06-30T16:00:52.279491Z",
          "start_time": "2025-06-30T16:00:52.216902Z"
        },
        "colab": {
          "base_uri": "https://localhost:8080/"
        },
        "id": "379867703b904a46",
        "outputId": "3bc18d2c-3e3a-46ed-8443-0ee6f0375a85"
      },
      "cell_type": "code",
      "source": [
        "# - 2x3x4\n",
        "shape_2x3x4 = tensor6.view(2, 3, 4)\n",
        "shape_2x3x4"
      ],
      "id": "379867703b904a46",
      "outputs": [
        {
          "output_type": "execute_result",
          "data": {
            "text/plain": [
              "tensor([[[0.3455, 0.2708, 0.2131, 0.0037],\n",
              "         [0.3055, 0.4520, 0.3894, 0.5443],\n",
              "         [0.4869, 0.1730, 0.5290, 0.4646]],\n",
              "\n",
              "        [[0.0980, 0.2567, 0.2781, 0.7244],\n",
              "         [0.1494, 0.9510, 0.9958, 0.3514],\n",
              "         [0.7480, 0.5923, 0.0516, 0.4512]]])"
            ]
          },
          "metadata": {},
          "execution_count": 21
        }
      ],
      "execution_count": 21
    },
    {
      "metadata": {
        "ExecuteTime": {
          "end_time": "2025-06-30T16:00:54.939549Z",
          "start_time": "2025-06-30T16:00:54.924869Z"
        },
        "colab": {
          "base_uri": "https://localhost:8080/"
        },
        "id": "2ade68cd12cc4456",
        "outputId": "a8a8b877-decb-42de-b6f4-af7cce67661d"
      },
      "cell_type": "code",
      "source": [
        "# - 2x2x2x3\n",
        "shape_2x2x2x3 = tensor6.view(2, 2, 2, 3)\n",
        "shape_2x2x2x3"
      ],
      "id": "2ade68cd12cc4456",
      "outputs": [
        {
          "output_type": "execute_result",
          "data": {
            "text/plain": [
              "tensor([[[[0.3455, 0.2708, 0.2131],\n",
              "          [0.0037, 0.3055, 0.4520]],\n",
              "\n",
              "         [[0.3894, 0.5443, 0.4869],\n",
              "          [0.1730, 0.5290, 0.4646]]],\n",
              "\n",
              "\n",
              "        [[[0.0980, 0.2567, 0.2781],\n",
              "          [0.7244, 0.1494, 0.9510]],\n",
              "\n",
              "         [[0.9958, 0.3514, 0.7480],\n",
              "          [0.5923, 0.0516, 0.4512]]]])"
            ]
          },
          "metadata": {},
          "execution_count": 22
        }
      ],
      "execution_count": 22
    },
    {
      "metadata": {
        "id": "ad12059584a46618"
      },
      "cell_type": "markdown",
      "source": [
        "\n",
        "\n",
        "## Задание 2: Автоматическое дифференцирование (25 баллов)\n",
        "\n",
        "Создайте файл `homework_autograd.py`:\n",
        "\n",
        "### 2.1 Простые вычисления с градиентами (8 баллов)"
      ],
      "id": "ad12059584a46618"
    },
    {
      "metadata": {
        "ExecuteTime": {
          "end_time": "2025-06-30T16:12:14.579583Z",
          "start_time": "2025-06-30T16:12:14.459996Z"
        },
        "colab": {
          "base_uri": "https://localhost:8080/"
        },
        "id": "6af6d52be06738d6",
        "outputId": "c1063578-d946-4b21-e29b-76f4e72ae164"
      },
      "cell_type": "code",
      "outputs": [
        {
          "output_type": "stream",
          "name": "stdout",
          "text": [
            "df/dx=14.0, df/dy=10.0, df/dz=10.0\n"
          ]
        }
      ],
      "execution_count": 23,
      "source": [
        "# Создайте тензоры x, y, z с requires_grad=True\n",
        "x = torch.tensor(1.0, requires_grad=True)\n",
        "y = torch.tensor(2.0, requires_grad=True)\n",
        "z = torch.tensor(3.0, requires_grad=True)\n",
        "# Вычислите функцию: f(x,y,z) = x^2 + y^2 + z^2 + 2*x*y*z\n",
        "f = x**2 + y**2 + z**2 + 2*x*y*z\n",
        "f.backward()\n",
        "# Найдите градиенты по всем переменным\n",
        "print(f\"df/dx={x.grad.item()}, df/dy={y.grad.item()}, df/dz={z.grad.item()}\")\n",
        "# Проверьте результат аналитически\n",
        "# df/dx = 2x + 2yz = 14, df/dy=2y+2xz = 10, df/dz=2z+2xy = 10"
      ],
      "id": "6af6d52be06738d6"
    },
    {
      "metadata": {
        "id": "1fcc19790f99a4c0"
      },
      "cell_type": "markdown",
      "source": [
        "\n",
        "\n",
        "### 2.2 Градиент функции потерь (9 баллов)\n"
      ],
      "id": "1fcc19790f99a4c0"
    },
    {
      "metadata": {
        "ExecuteTime": {
          "end_time": "2025-06-30T16:25:23.066235Z",
          "start_time": "2025-06-30T16:25:23.054650Z"
        },
        "colab": {
          "base_uri": "https://localhost:8080/"
        },
        "id": "4b290a02c23326ad",
        "outputId": "09d1c866-196e-4519-ed4c-df57f7a2acdf"
      },
      "cell_type": "code",
      "source": [
        "# Реализуйте функцию MSE (Mean Squared Error):\n",
        "# MSE = (1/n) * Σ(y_pred - y_true)^2\n",
        "def mse(y_pred, y_true):\n",
        "    return torch.mean((y_pred - y_true) ** 2)\n",
        "\n",
        "x_data = torch.randn(10, requires_grad=False)\n",
        "x_data"
      ],
      "id": "4b290a02c23326ad",
      "outputs": [
        {
          "output_type": "execute_result",
          "data": {
            "text/plain": [
              "tensor([ 1.3821, -0.4053, -1.1577,  0.0047, -0.5359,  0.6307,  0.7431,  0.3708,\n",
              "         1.3253, -0.0980])"
            ]
          },
          "metadata": {},
          "execution_count": 24
        }
      ],
      "execution_count": 24
    },
    {
      "metadata": {
        "ExecuteTime": {
          "end_time": "2025-06-30T16:42:38.297622Z",
          "start_time": "2025-06-30T16:42:38.256947Z"
        },
        "colab": {
          "base_uri": "https://localhost:8080/"
        },
        "id": "492325b267e21464",
        "outputId": "ada2da0c-64d3-477c-d804-cb5807666567"
      },
      "cell_type": "code",
      "source": [
        "y_true = 3 + 3*x_data + torch.randn(10) * 0.1 # добавляем шум\n",
        "y_true"
      ],
      "id": "492325b267e21464",
      "outputs": [
        {
          "output_type": "execute_result",
          "data": {
            "text/plain": [
              "tensor([ 7.2537,  1.7028, -0.6363,  2.8760,  1.5277,  4.9705,  5.1385,  4.1824,\n",
              "         6.9836,  2.8179])"
            ]
          },
          "metadata": {},
          "execution_count": 25
        }
      ],
      "execution_count": 25
    },
    {
      "metadata": {
        "ExecuteTime": {
          "end_time": "2025-06-30T16:56:35.618639Z",
          "start_time": "2025-06-30T16:56:35.603856Z"
        },
        "colab": {
          "base_uri": "https://localhost:8080/"
        },
        "id": "849a3d9ccf54cac2",
        "outputId": "9148ee45-960a-4c3b-94c7-19202c660068"
      },
      "cell_type": "code",
      "source": [
        "w = torch.tensor(0.0, requires_grad=True)\n",
        "b = torch.tensor(0.0, requires_grad=True)\n",
        "\n",
        "# где y_pred = w * x + b (линейная функция)\n",
        "y_pred = w * x_data + b\n",
        "loss = mse(y_pred, y_true)\n",
        "loss.backward()\n",
        "# Найдите градиенты по w и b\n",
        "print(f\"dMSE/dw={w.grad.item()}, dMSE/db={b.grad.item()}\")"
      ],
      "id": "849a3d9ccf54cac2",
      "outputs": [
        {
          "output_type": "stream",
          "name": "stdout",
          "text": [
            "dMSE/dw=-5.349992752075195, dMSE/db=-7.363372802734375\n"
          ]
        }
      ],
      "execution_count": 26
    },
    {
      "metadata": {
        "id": "970bc7d8debec08"
      },
      "cell_type": "markdown",
      "source": [
        "\n",
        "\n",
        "### 2.3 Цепное правило (8 баллов)\n"
      ],
      "id": "970bc7d8debec08"
    },
    {
      "metadata": {
        "ExecuteTime": {
          "end_time": "2025-06-30T17:11:34.206901Z",
          "start_time": "2025-06-30T17:11:34.183946Z"
        },
        "colab": {
          "base_uri": "https://localhost:8080/"
        },
        "id": "c742f0e886e3108b",
        "outputId": "eabb023b-5a87-465c-cbd5-32219cdb0787"
      },
      "cell_type": "code",
      "source": [
        "# Реализуйте составную функцию: f(x) = sin(x^2 + 1)\n",
        "x_var = torch.tensor(1.0, requires_grad=True)\n",
        "f = torch.sin(x_var ** 2 + 1)\n",
        "f.backward()\n",
        "# Найдите градиент df/dx\n",
        "print(\" Градиент df/dx:\", x_var.grad.item())\n",
        "# Проверьте результат с помощью torch.autograd.grad\n",
        "grad = torch.autograd.grad(torch.sin(x_var ** 2 + 1), x_var)[0]\n",
        "print(\"Проверка через autograd.grad:\", grad.item())"
      ],
      "id": "c742f0e886e3108b",
      "outputs": [
        {
          "output_type": "stream",
          "name": "stdout",
          "text": [
            " Градиент df/dx: -0.832293689250946\n",
            "Проверка через autograd.grad: -0.832293689250946\n"
          ]
        }
      ],
      "execution_count": 27
    },
    {
      "cell_type": "markdown",
      "source": [
        "## Задание 3: Сравнение производительности CPU vs CUDA (20 баллов)\n",
        "\n",
        "Создайте файл `homework_performance.py`:\n",
        "\n",
        "### 3.1 Подготовка данных (5 баллов)"
      ],
      "metadata": {
        "id": "LfGh7TLA63hx"
      },
      "id": "LfGh7TLA63hx"
    },
    {
      "cell_type": "code",
      "source": [
        "import time\n",
        "import torch\n",
        "device_cpu = torch.device(\"cpu\")\n",
        "device_gpu = torch.device(\"cuda\" if torch.cuda.is_available() else \"cpu\")\n",
        "# Создайте большие матрицы размеров:\n",
        "# - 64 x 1024 x 1024\n",
        "# - 128 x 512 x 512\n",
        "# - 256 x 256 x 256\n",
        "# Заполните их случайными числами\n",
        "sizes = [(64, 1024, 1024), (128, 512, 512), (256, 256, 256)]\n",
        "matrices = [torch.randn(*size) for size in sizes]"
      ],
      "metadata": {
        "id": "dbvpw7Gs66gA"
      },
      "id": "dbvpw7Gs66gA",
      "execution_count": 28,
      "outputs": []
    },
    {
      "cell_type": "markdown",
      "source": [
        "### 3.2 Функция измерения времени (5 баллов)\n",
        "\n",
        "``` python\n",
        "# Создайте функцию для измерения времени выполнения операций\n",
        "# Используйте torch.cuda.Event() для точного измерения на GPU\n",
        "# Используйте time.time() для измерения на CPU\n",
        "```"
      ],
      "metadata": {
        "id": "AL5OuXi27O2p"
      },
      "id": "AL5OuXi27O2p"
    },
    {
      "cell_type": "code",
      "source": [
        "# Создайте функцию для измерения времени выполнения операций\n",
        "def measure_time(op, x_cpu, x_gpu):\n",
        "    # CPU\n",
        "    # Используйте time.time() для измерения на CPU\n",
        "    start_cpu = time.time()\n",
        "    op(x_cpu)\n",
        "    cpu_time = (time.time() - start_cpu) * 1000  # в мс\n",
        "\n",
        "    # GPU\n",
        "    # Используйте torch.cuda.Event() для точного измерения на GPU\n",
        "    if torch.cuda.is_available():\n",
        "        start_event = torch.cuda.Event(enable_timing=True)\n",
        "        end_event = torch.cuda.Event(enable_timing=True)\n",
        "\n",
        "        start_event.record()\n",
        "        op(x_gpu)\n",
        "        end_event.record()\n",
        "        torch.cuda.synchronize()\n",
        "        gpu_time = start_event.elapsed_time(end_event)  # в мс\n",
        "    else:\n",
        "        gpu_time = None\n",
        "\n",
        "    return cpu_time, gpu_time"
      ],
      "metadata": {
        "id": "Y1vik_TH7PTR"
      },
      "id": "Y1vik_TH7PTR",
      "execution_count": 29,
      "outputs": []
    },
    {
      "cell_type": "markdown",
      "source": [
        "### 3.3 Сравнение операций (10 баллов)\n",
        "\n",
        "``` python\n",
        "# Сравните время выполнения следующих операций на CPU и CUDA:\n",
        "# - Матричное умножение (torch.matmul)\n",
        "# - Поэлементное сложение\n",
        "# - Поэлементное умножение\n",
        "# - Транспонирование\n",
        "# - Вычисление суммы всех элементов\n",
        "\n",
        "# Для каждой операции:\n",
        "# 1. Измерьте время на CPU\n",
        "# 2. Измерьте время на GPU (если доступен)\n",
        "# 3. Вычислите ускорение (speedup)\n",
        "# 4. Выведите результаты в табличном виде\n",
        "```"
      ],
      "metadata": {
        "id": "9EEzQTHc7enZ"
      },
      "id": "9EEzQTHc7enZ"
    },
    {
      "cell_type": "code",
      "source": [
        "operations = {\n",
        "    \"Матричное умножение\": lambda x: torch.matmul(x, x.transpose(-1, -2)),\n",
        "    \"Сложение\": lambda x: x + x,\n",
        "    \"Умножение\": lambda x: x * x,\n",
        "    \"Транспонирование\": lambda x: x.transpose(-1, -2),\n",
        "    \"Сумма элементов\": lambda x: x.sum(),\n",
        "}"
      ],
      "metadata": {
        "id": "Q4IT6g6_7jNo"
      },
      "id": "Q4IT6g6_7jNo",
      "execution_count": 30,
      "outputs": []
    },
    {
      "cell_type": "code",
      "source": [
        "print(f\"{'Операция':20} | {'CPU (мс)':>8} | {'GPU (мс)':>8} | {'Ускорение':>10}\")\n",
        "print(\"-\"*55)\n",
        "for op_name, op_func in operations.items():\n",
        "    x_cpu = matrices[0].to(device_cpu)\n",
        "    x_gpu = matrices[0].to(device_gpu)\n",
        "    cpu_t, gpu_t = measure_time(op_func, x_cpu, x_gpu)\n",
        "    speedup = (cpu_t / gpu_t) if gpu_t else None\n",
        "    print(f\"{op_name:20} | {cpu_t:8.1f} | {gpu_t or 0:8.1f} | {speedup or '-':>10}\")"
      ],
      "metadata": {
        "colab": {
          "base_uri": "https://localhost:8080/"
        },
        "id": "kyo6ApQ67nYT",
        "outputId": "b91f9ecf-ab8c-4d97-9922-3f99b799c0b4"
      },
      "id": "kyo6ApQ67nYT",
      "execution_count": 31,
      "outputs": [
        {
          "output_type": "stream",
          "name": "stdout",
          "text": [
            "Операция             | CPU (мс) | GPU (мс) |  Ускорение\n",
            "-------------------------------------------------------\n",
            "Матричное умножение  |   1358.8 |    171.3 | 7.932106587793706\n",
            "Сложение             |    162.2 |     37.7 | 4.298346779690925\n",
            "Умножение            |    142.0 |     28.5 | 4.977008424516065\n",
            "Транспонирование     |      0.0 |      0.0 | 1.8792547669294761\n",
            "Сумма элементов      |     21.8 |     35.3 | 0.6173117846548816\n"
          ]
        }
      ]
    },
    {
      "cell_type": "code",
      "source": [
        "for op_name, op_func in operations.items():\n",
        "    x_cpu = matrices[1].to(device_cpu)\n",
        "    x_gpu = matrices[1].to(device_gpu)\n",
        "    cpu_t, gpu_t = measure_time(op_func, x_cpu, x_gpu)\n",
        "    speedup = (cpu_t / gpu_t) if gpu_t else None\n",
        "    print(f\"{op_name:20} | {cpu_t:8.1f} | {gpu_t or 0:8.1f} | {speedup or '-':>10}\")"
      ],
      "metadata": {
        "colab": {
          "base_uri": "https://localhost:8080/"
        },
        "id": "LXnWiPlk-EF5",
        "outputId": "525dcc6e-699c-4574-a0fe-b3e0d374826f"
      },
      "id": "LXnWiPlk-EF5",
      "execution_count": 32,
      "outputs": [
        {
          "output_type": "stream",
          "name": "stdout",
          "text": [
            "Матричное умножение  |    344.8 |     13.3 | 26.01471376420059\n",
            "Сложение             |     76.1 |      1.2 | 64.55767739561291\n",
            "Умножение            |     85.1 |      1.2 | 71.32445647835958\n",
            "Транспонирование     |      0.0 |      0.0 | 1.240581961428756\n",
            "Сумма элементов      |     11.2 |      0.7 | 17.11631746664937\n"
          ]
        }
      ]
    },
    {
      "cell_type": "code",
      "source": [
        "for op_name, op_func in operations.items():\n",
        "    x_cpu = matrices[2].to(device_cpu)\n",
        "    x_gpu = matrices[2].to(device_gpu)\n",
        "    cpu_t, gpu_t = measure_time(op_func, x_cpu, x_gpu)\n",
        "    speedup = (cpu_t / gpu_t) if gpu_t else None\n",
        "    print(f\"{op_name:20} | {cpu_t:8.1f} | {gpu_t or 0:8.1f} | {speedup or '-':>10}\")"
      ],
      "metadata": {
        "colab": {
          "base_uri": "https://localhost:8080/"
        },
        "id": "DvbAvzIn-IO2",
        "outputId": "dee6fe0a-c62c-4865-e8dc-e225d784ab5f"
      },
      "id": "DvbAvzIn-IO2",
      "execution_count": 33,
      "outputs": [
        {
          "output_type": "stream",
          "name": "stdout",
          "text": [
            "Матричное умножение  |    119.5 |      3.6 | 32.82061258584511\n",
            "Сложение             |     33.8 |      0.6 | 55.223756831872194\n",
            "Умножение            |     36.7 |      0.6 | 59.51536056535824\n",
            "Транспонирование     |      0.0 |      0.0 | 0.908170246072313\n",
            "Сумма элементов      |      4.8 |      0.3 | 14.516578196701536\n"
          ]
        }
      ]
    },
    {
      "cell_type": "markdown",
      "source": [
        "### 3.4 Анализ результатов (5 баллов)\n",
        "\n",
        "``` python\n",
        "# Проанализируйте результаты:\n",
        "# - Какие операции получают наибольшее ускорение на GPU?\n",
        "# - Почему некоторые операции могут быть медленнее на GPU?\n",
        "# - Как размер матриц влияет на ускорение?\n",
        "# - Что происходит при передаче данных между CPU и GPU?\n",
        "```"
      ],
      "metadata": {
        "id": "2IaE-xZy8TDf"
      },
      "id": "2IaE-xZy8TDf"
    },
    {
      "cell_type": "markdown",
      "source": [
        "### Операции с большим числом независимых поэлементных вычислений (умножения, сложение) показывают наибольшее ускорение на GPU.\n",
        "### Операции с небольшими матрицами или интенсивным доступом к памяти (Сумма элементов или транспонирование по тестам) могут быть медленнее на GPU из-за расходов на копирование данных и инициализацию.\n",
        "### Чем больше размер матрицы, тем выше ускорение на GPU.\n",
        "### При передаче данных между CPU и GPU происходит задержка — всегда старайтесь минимизировать пересылки."
      ],
      "metadata": {
        "id": "c3UvrbxT9xsN"
      },
      "id": "c3UvrbxT9xsN"
    }
  ],
  "nbformat": 4,
  "nbformat_minor": 5,
  "metadata": {
    "kernelspec": {
      "name": "python3",
      "display_name": "Python 3"
    },
    "colab": {
      "provenance": [],
      "gpuType": "T4"
    },
    "accelerator": "GPU"
  }
}